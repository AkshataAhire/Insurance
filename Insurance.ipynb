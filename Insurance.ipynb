{
  "nbformat": 4,
  "nbformat_minor": 0,
  "metadata": {
    "colab": {
      "provenance": [],
      "authorship_tag": "ABX9TyNOD6n68xC5WaEzthlt+Kfs",
      "include_colab_link": true
    },
    "kernelspec": {
      "name": "python3",
      "display_name": "Python 3"
    },
    "language_info": {
      "name": "python"
    }
  },
  "cells": [
    {
      "cell_type": "markdown",
      "metadata": {
        "id": "view-in-github",
        "colab_type": "text"
      },
      "source": [
        "<a href=\"https://colab.research.google.com/github/AkshataAhire/Insurance/blob/main/Insurance.ipynb\" target=\"_parent\"><img src=\"https://colab.research.google.com/assets/colab-badge.svg\" alt=\"Open In Colab\"/></a>"
      ]
    },
    {
      "cell_type": "markdown",
      "source": [
        "# **Problem Statement of an Insurance company:**\n",
        "\n",
        "---\n",
        "\n",
        "We need to showcase to the business the use of machine learning techniques over traditional risk quantification methods to predict the risk of offering an insurance policy to a potential customer based on their personal and financial information."
      ],
      "metadata": {
        "id": "u-kl548CxZcV"
      }
    },
    {
      "cell_type": "markdown",
      "source": [
        "## **Objective:**\n",
        "\n",
        "\n",
        "---\n",
        "The objective is to understand the 'RISK PROFILE' of a potential customer basis their personal and financial information to determine how to price products.\n",
        "\n"
      ],
      "metadata": {
        "id": "_CUi3_S8zCfC"
      }
    },
    {
      "cell_type": "markdown",
      "source": [
        "## **Significance:**\n",
        "\n",
        "---\n",
        "\n",
        "\n",
        "\n",
        "Hiscox offers various insurance cover, however, I have chosen Hiscox Home Insurance as their buildings and contents insurance is an award-winning service.\n"
      ],
      "metadata": {
        "id": "oL1j43zkxk3q"
      }
    },
    {
      "cell_type": "markdown",
      "source": [
        "## **Presentation:**\n",
        "\n",
        "---\n",
        "\n"
      ],
      "metadata": {
        "id": "i9948e_33Fa-"
      }
    },
    {
      "cell_type": "markdown",
      "source": [
        "## **Conclusion:**\n",
        "\n",
        "\n",
        "---\n",
        "\n",
        "Comparison of Machine Learning techniques over traditional risk quantification methods proving how Machine Learning is useful and should be adopted by the business."
      ],
      "metadata": {
        "id": "SHksyZlV0rbJ"
      }
    }
  ]
}