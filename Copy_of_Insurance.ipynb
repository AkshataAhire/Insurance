{
  "nbformat": 4,
  "nbformat_minor": 0,
  "metadata": {
    "colab": {
      "provenance": [],
      "include_colab_link": true
    },
    "kernelspec": {
      "name": "python3",
      "display_name": "Python 3"
    },
    "language_info": {
      "name": "python"
    }
  },
  "cells": [
    {
      "cell_type": "markdown",
      "metadata": {
        "id": "view-in-github",
        "colab_type": "text"
      },
      "source": [
        "<a href=\"https://colab.research.google.com/github/AkshataAhire/Insurance/blob/main/Copy_of_Insurance.ipynb\" target=\"_parent\"><img src=\"https://colab.research.google.com/assets/colab-badge.svg\" alt=\"Open In Colab\"/></a>"
      ]
    },
    {
      "cell_type": "markdown",
      "source": [
        "#                              **Insurance Risk Analysis Using Machine Learning Algorithms**"
      ],
      "metadata": {
        "id": "h9UZxngzFfii"
      }
    },
    {
      "cell_type": "markdown",
      "source": [
        "## **Introduction:**\n",
        "\n",
        "---\n",
        "\n",
        "The insurance industry can leverage machine learning to analyse vast volumes of data for better risk management and provide premium pricing targeted to the customer.\n",
        "Therefore, we (the data team) hereby showcase the use of machine learning techniques over traditional risk quantification methods to predict the 'risk' of offering an insurance policy to a potential customer based on their personal and financial information ensuring that only 5% of the customers would claim their policy."
      ],
      "metadata": {
        "id": "u-kl548CxZcV"
      }
    },
    {
      "cell_type": "markdown",
      "source": [
        "## **Goal:**\n",
        "\n",
        "\n",
        "---\n",
        "The goal is to understand the 'RISK PROFILE' of a potential customer basis their personal and financial information to determine how to price products. A higher risk means a higher chance of the customer making a claim within a year of purchasing the policy.\n",
        "\n"
      ],
      "metadata": {
        "id": "_CUi3_S8zCfC"
      }
    },
    {
      "cell_type": "markdown",
      "source": [
        "## **Significance:**\n",
        "\n",
        "---\n",
        "\n",
        "\n",
        "\n",
        "Hiscox offers various insurance cover, however, I have chosen Hiscox Home Insurance as their buildings and contents insurance is an award-winning service.\n",
        "We have used synthesised data consisting of 10,000 records with 40 attributes for each record for analysis.\n",
        "\n"
      ],
      "metadata": {
        "id": "oL1j43zkxk3q"
      }
    },
    {
      "cell_type": "markdown",
      "source": [
        "## **Data Code**"
      ],
      "metadata": {
        "id": "mAbUd2CdAsNl"
      }
    },
    {
      "cell_type": "code",
      "source": [
        "# importing libraries\n",
        "import pandas as pd                                 #pandas library is used for data manipulation and analysis\n",
        "import matplotlib.pyplot as plt                     #imported matplotlib and seaborn for data visualisation\n",
        "import seaborn as sns\n",
        "from sklearn.impute import SimpleImputer                          #imputer to replace missing values\n",
        "import numpy as np                                                #numpy to handle arrays\n",
        "\n",
        "from sklearn.model_selection import train_test_split              #libraries for data modelling\n",
        "from sklearn.ensemble import RandomForestClassifier\n",
        "from sklearn.metrics import accuracy_score\n",
        "from sklearn.feature_selection import SelectFromModel\n",
        "from sklearn.metrics import precision_score, recall_score,f1_score\n",
        "from sklearn.linear_model import LogisticRegression\n",
        "from sklearn.metrics import accuracy_score, classification_report\n",
        "from sklearn.tree import DecisionTreeClassifier"
      ],
      "metadata": {
        "id": "wm-jLI75uffm"
      },
      "execution_count": 89,
      "outputs": []
    },
    {
      "cell_type": "code",
      "source": [
        "#data is stored in the variable Hiscox\n",
        "Hiscox = pd.read_excel('InsuranceData.xlsx')\n",
        "Hiscox"
      ],
      "metadata": {
        "id": "NwW7zegIos4S"
      },
      "execution_count": 2,
      "outputs": []
    },
    {
      "cell_type": "markdown",
      "source": [
        "***Data manipulation: Checking for duplicate records***"
      ],
      "metadata": {
        "id": "GH6Oy-zU__WM"
      }
    },
    {
      "cell_type": "code",
      "source": [
        "#checking and displaying the duplicate records\n",
        "duplicates = Hiscox[Hiscox.duplicated()]\n",
        "duplicates"
      ],
      "metadata": {
        "colab": {
          "base_uri": "https://localhost:8080/",
          "height": 631
        },
        "id": "RoLsNJDnMHMn",
        "outputId": "7549fffb-3342-47da-c0bd-63e17342c9f0"
      },
      "execution_count": 4,
      "outputs": [
        {
          "output_type": "execute_result",
          "data": {
            "text/plain": [
              "         Id      Location  Phone number  Gender  Age Education level  \\\n",
              "6      10650         Town    9529236402    Male   61     High School   \n",
              "7      75421  Countryside    9741884502  Female   50         Masters   \n",
              "8      79749         City    9560938377    Male   28     High School   \n",
              "9      15458         Town    8845269889  Female   52   School leaver   \n",
              "10     25686         City    9002476860    Male   58   School leaver   \n",
              "11     65580  Countryside    9826623870    Male   51       Bachelors   \n",
              "10006  11868         City    8306246001    Male   61         Masters   \n",
              "10007   2347         City    9358244447  Female   49         Masters   \n",
              "10008  46391  Countryside    9305014964  Female   71         Masters   \n",
              "10009  27457         City    9618696625  Female   34   School leaver   \n",
              "10010  36135  Countryside    9857653668    Male   49         Masters   \n",
              "10011  67468         Town    9086679454  Female   39     High School   \n",
              "\n",
              "      Marital status  No of dependents  Occupation  Income  ...  \\\n",
              "6           Divorced               3.0  Employment  117752  ...   \n",
              "7           Divorced               2.0    Business   96381  ...   \n",
              "8            Married               2.0    Business   59464  ...   \n",
              "9           Divorced               3.0    Business  112594  ...   \n",
              "10            Single               1.0    Business   47068  ...   \n",
              "11          Divorced               2.0    Business   60753  ...   \n",
              "10006         Single               2.0    Business   57722  ...   \n",
              "10007         Single               3.0    Business  111796  ...   \n",
              "10008        Married               1.0     Retired   75509  ...   \n",
              "10009         Single               3.0    Business   86877  ...   \n",
              "10010        Married               3.0  Employment   77451  ...   \n",
              "10011       Divorced               1.0    Business   61016  ...   \n",
              "\n",
              "       Do you have any security systems?  \\\n",
              "6                                    Yes   \n",
              "7                                    Yes   \n",
              "8                                    Yes   \n",
              "9                                    Yes   \n",
              "10                                    No   \n",
              "11                                   Yes   \n",
              "10006                                 No   \n",
              "10007                                Yes   \n",
              "10008                                 No   \n",
              "10009                                Yes   \n",
              "10010                                 No   \n",
              "10011                                Yes   \n",
              "\n",
              "      Property left empty for long periods? (Over 60 days) Rebuild costs  \\\n",
              "6                                                     No           19435   \n",
              "7                                                    Yes           15806   \n",
              "8                                                     No           19093   \n",
              "9                                                    Yes           15962   \n",
              "10                                                   Yes           17133   \n",
              "11                                                    No           15466   \n",
              "10006                                                Yes           18694   \n",
              "10007                                                 No           17061   \n",
              "10008                                                Yes           15429   \n",
              "10009                                                Yes           17848   \n",
              "10010                                                 No           15492   \n",
              "10011                                                Yes           19098   \n",
              "\n",
              "      Include content in Home Insurance  \\\n",
              "6                                    No   \n",
              "7                                    No   \n",
              "8                                   Yes   \n",
              "9                                   Yes   \n",
              "10                                   No   \n",
              "11                                   No   \n",
              "10006                               Yes   \n",
              "10007                               Yes   \n",
              "10008                                No   \n",
              "10009                               Yes   \n",
              "10010                               Yes   \n",
              "10011                                No   \n",
              "\n",
              "       Is value of all home content more than £1,00,000?  \\\n",
              "6                                                     No   \n",
              "7                                                    Yes   \n",
              "8                                                    Yes   \n",
              "9                                                     No   \n",
              "10                                                    No   \n",
              "11                                                   Yes   \n",
              "10006                                                 No   \n",
              "10007                                                 No   \n",
              "10008                                                 No   \n",
              "10009                                                Yes   \n",
              "10010                                                 No   \n",
              "10011                                                Yes   \n",
              "\n",
              "      Do you want to include home content in home insurance?  \\\n",
              "6                                                    Yes       \n",
              "7                                                    Yes       \n",
              "8                                                     No       \n",
              "9                                                     No       \n",
              "10                                                    No       \n",
              "11                                                   Yes       \n",
              "10006                                                Yes       \n",
              "10007                                                 No       \n",
              "10008                                                Yes       \n",
              "10009                                                Yes       \n",
              "10010                                                Yes       \n",
              "10011                                                 No       \n",
              "\n",
              "      Do you want any additional cover for the content?  \\\n",
              "6                                                    No   \n",
              "7                                                   Yes   \n",
              "8                                                    No   \n",
              "9                                                   Yes   \n",
              "10                                                  Yes   \n",
              "11                                                  Yes   \n",
              "10006                                               Yes   \n",
              "10007                                                No   \n",
              "10008                                               Yes   \n",
              "10009                                                No   \n",
              "10010                                               Yes   \n",
              "10011                                               Yes   \n",
              "\n",
              "      Want to add a joint policyholder Refused/cancelled/declined insurance  \\\n",
              "6                                  Yes                                  Yes   \n",
              "7                                  Yes                                  Yes   \n",
              "8                                   No                                   No   \n",
              "9                                   No                                   No   \n",
              "10                                  No                                  Yes   \n",
              "11                                 Yes                                   No   \n",
              "10006                              Yes                                  Yes   \n",
              "10007                              Yes                                  Yes   \n",
              "10008                               No                                  Yes   \n",
              "10009                               No                                   No   \n",
              "10010                               No                                  Yes   \n",
              "10011                               No                                   No   \n",
              "\n",
              "      Claim status   \n",
              "6                 1  \n",
              "7                 0  \n",
              "8                 1  \n",
              "9                 0  \n",
              "10                0  \n",
              "11                1  \n",
              "10006             0  \n",
              "10007             1  \n",
              "10008             0  \n",
              "10009             0  \n",
              "10010             1  \n",
              "10011             0  \n",
              "\n",
              "[12 rows x 39 columns]"
            ],
            "text/html": [
              "\n",
              "  <div id=\"df-dc16d823-2c52-47d1-b976-975d69168e8c\" class=\"colab-df-container\">\n",
              "    <div>\n",
              "<style scoped>\n",
              "    .dataframe tbody tr th:only-of-type {\n",
              "        vertical-align: middle;\n",
              "    }\n",
              "\n",
              "    .dataframe tbody tr th {\n",
              "        vertical-align: top;\n",
              "    }\n",
              "\n",
              "    .dataframe thead th {\n",
              "        text-align: right;\n",
              "    }\n",
              "</style>\n",
              "<table border=\"1\" class=\"dataframe\">\n",
              "  <thead>\n",
              "    <tr style=\"text-align: right;\">\n",
              "      <th></th>\n",
              "      <th>Id</th>\n",
              "      <th>Location</th>\n",
              "      <th>Phone number</th>\n",
              "      <th>Gender</th>\n",
              "      <th>Age</th>\n",
              "      <th>Education level</th>\n",
              "      <th>Marital status</th>\n",
              "      <th>No of dependents</th>\n",
              "      <th>Occupation</th>\n",
              "      <th>Income</th>\n",
              "      <th>...</th>\n",
              "      <th>Do you have any security systems?</th>\n",
              "      <th>Property left empty for long periods? (Over 60 days)</th>\n",
              "      <th>Rebuild costs</th>\n",
              "      <th>Include content in Home Insurance</th>\n",
              "      <th>Is value of all home content more than £1,00,000?</th>\n",
              "      <th>Do you want to include home content in home insurance?</th>\n",
              "      <th>Do you want any additional cover for the content?</th>\n",
              "      <th>Want to add a joint policyholder</th>\n",
              "      <th>Refused/cancelled/declined insurance</th>\n",
              "      <th>Claim status</th>\n",
              "    </tr>\n",
              "  </thead>\n",
              "  <tbody>\n",
              "    <tr>\n",
              "      <th>6</th>\n",
              "      <td>10650</td>\n",
              "      <td>Town</td>\n",
              "      <td>9529236402</td>\n",
              "      <td>Male</td>\n",
              "      <td>61</td>\n",
              "      <td>High School</td>\n",
              "      <td>Divorced</td>\n",
              "      <td>3.0</td>\n",
              "      <td>Employment</td>\n",
              "      <td>117752</td>\n",
              "      <td>...</td>\n",
              "      <td>Yes</td>\n",
              "      <td>No</td>\n",
              "      <td>19435</td>\n",
              "      <td>No</td>\n",
              "      <td>No</td>\n",
              "      <td>Yes</td>\n",
              "      <td>No</td>\n",
              "      <td>Yes</td>\n",
              "      <td>Yes</td>\n",
              "      <td>1</td>\n",
              "    </tr>\n",
              "    <tr>\n",
              "      <th>7</th>\n",
              "      <td>75421</td>\n",
              "      <td>Countryside</td>\n",
              "      <td>9741884502</td>\n",
              "      <td>Female</td>\n",
              "      <td>50</td>\n",
              "      <td>Masters</td>\n",
              "      <td>Divorced</td>\n",
              "      <td>2.0</td>\n",
              "      <td>Business</td>\n",
              "      <td>96381</td>\n",
              "      <td>...</td>\n",
              "      <td>Yes</td>\n",
              "      <td>Yes</td>\n",
              "      <td>15806</td>\n",
              "      <td>No</td>\n",
              "      <td>Yes</td>\n",
              "      <td>Yes</td>\n",
              "      <td>Yes</td>\n",
              "      <td>Yes</td>\n",
              "      <td>Yes</td>\n",
              "      <td>0</td>\n",
              "    </tr>\n",
              "    <tr>\n",
              "      <th>8</th>\n",
              "      <td>79749</td>\n",
              "      <td>City</td>\n",
              "      <td>9560938377</td>\n",
              "      <td>Male</td>\n",
              "      <td>28</td>\n",
              "      <td>High School</td>\n",
              "      <td>Married</td>\n",
              "      <td>2.0</td>\n",
              "      <td>Business</td>\n",
              "      <td>59464</td>\n",
              "      <td>...</td>\n",
              "      <td>Yes</td>\n",
              "      <td>No</td>\n",
              "      <td>19093</td>\n",
              "      <td>Yes</td>\n",
              "      <td>Yes</td>\n",
              "      <td>No</td>\n",
              "      <td>No</td>\n",
              "      <td>No</td>\n",
              "      <td>No</td>\n",
              "      <td>1</td>\n",
              "    </tr>\n",
              "    <tr>\n",
              "      <th>9</th>\n",
              "      <td>15458</td>\n",
              "      <td>Town</td>\n",
              "      <td>8845269889</td>\n",
              "      <td>Female</td>\n",
              "      <td>52</td>\n",
              "      <td>School leaver</td>\n",
              "      <td>Divorced</td>\n",
              "      <td>3.0</td>\n",
              "      <td>Business</td>\n",
              "      <td>112594</td>\n",
              "      <td>...</td>\n",
              "      <td>Yes</td>\n",
              "      <td>Yes</td>\n",
              "      <td>15962</td>\n",
              "      <td>Yes</td>\n",
              "      <td>No</td>\n",
              "      <td>No</td>\n",
              "      <td>Yes</td>\n",
              "      <td>No</td>\n",
              "      <td>No</td>\n",
              "      <td>0</td>\n",
              "    </tr>\n",
              "    <tr>\n",
              "      <th>10</th>\n",
              "      <td>25686</td>\n",
              "      <td>City</td>\n",
              "      <td>9002476860</td>\n",
              "      <td>Male</td>\n",
              "      <td>58</td>\n",
              "      <td>School leaver</td>\n",
              "      <td>Single</td>\n",
              "      <td>1.0</td>\n",
              "      <td>Business</td>\n",
              "      <td>47068</td>\n",
              "      <td>...</td>\n",
              "      <td>No</td>\n",
              "      <td>Yes</td>\n",
              "      <td>17133</td>\n",
              "      <td>No</td>\n",
              "      <td>No</td>\n",
              "      <td>No</td>\n",
              "      <td>Yes</td>\n",
              "      <td>No</td>\n",
              "      <td>Yes</td>\n",
              "      <td>0</td>\n",
              "    </tr>\n",
              "    <tr>\n",
              "      <th>11</th>\n",
              "      <td>65580</td>\n",
              "      <td>Countryside</td>\n",
              "      <td>9826623870</td>\n",
              "      <td>Male</td>\n",
              "      <td>51</td>\n",
              "      <td>Bachelors</td>\n",
              "      <td>Divorced</td>\n",
              "      <td>2.0</td>\n",
              "      <td>Business</td>\n",
              "      <td>60753</td>\n",
              "      <td>...</td>\n",
              "      <td>Yes</td>\n",
              "      <td>No</td>\n",
              "      <td>15466</td>\n",
              "      <td>No</td>\n",
              "      <td>Yes</td>\n",
              "      <td>Yes</td>\n",
              "      <td>Yes</td>\n",
              "      <td>Yes</td>\n",
              "      <td>No</td>\n",
              "      <td>1</td>\n",
              "    </tr>\n",
              "    <tr>\n",
              "      <th>10006</th>\n",
              "      <td>11868</td>\n",
              "      <td>City</td>\n",
              "      <td>8306246001</td>\n",
              "      <td>Male</td>\n",
              "      <td>61</td>\n",
              "      <td>Masters</td>\n",
              "      <td>Single</td>\n",
              "      <td>2.0</td>\n",
              "      <td>Business</td>\n",
              "      <td>57722</td>\n",
              "      <td>...</td>\n",
              "      <td>No</td>\n",
              "      <td>Yes</td>\n",
              "      <td>18694</td>\n",
              "      <td>Yes</td>\n",
              "      <td>No</td>\n",
              "      <td>Yes</td>\n",
              "      <td>Yes</td>\n",
              "      <td>Yes</td>\n",
              "      <td>Yes</td>\n",
              "      <td>0</td>\n",
              "    </tr>\n",
              "    <tr>\n",
              "      <th>10007</th>\n",
              "      <td>2347</td>\n",
              "      <td>City</td>\n",
              "      <td>9358244447</td>\n",
              "      <td>Female</td>\n",
              "      <td>49</td>\n",
              "      <td>Masters</td>\n",
              "      <td>Single</td>\n",
              "      <td>3.0</td>\n",
              "      <td>Business</td>\n",
              "      <td>111796</td>\n",
              "      <td>...</td>\n",
              "      <td>Yes</td>\n",
              "      <td>No</td>\n",
              "      <td>17061</td>\n",
              "      <td>Yes</td>\n",
              "      <td>No</td>\n",
              "      <td>No</td>\n",
              "      <td>No</td>\n",
              "      <td>Yes</td>\n",
              "      <td>Yes</td>\n",
              "      <td>1</td>\n",
              "    </tr>\n",
              "    <tr>\n",
              "      <th>10008</th>\n",
              "      <td>46391</td>\n",
              "      <td>Countryside</td>\n",
              "      <td>9305014964</td>\n",
              "      <td>Female</td>\n",
              "      <td>71</td>\n",
              "      <td>Masters</td>\n",
              "      <td>Married</td>\n",
              "      <td>1.0</td>\n",
              "      <td>Retired</td>\n",
              "      <td>75509</td>\n",
              "      <td>...</td>\n",
              "      <td>No</td>\n",
              "      <td>Yes</td>\n",
              "      <td>15429</td>\n",
              "      <td>No</td>\n",
              "      <td>No</td>\n",
              "      <td>Yes</td>\n",
              "      <td>Yes</td>\n",
              "      <td>No</td>\n",
              "      <td>Yes</td>\n",
              "      <td>0</td>\n",
              "    </tr>\n",
              "    <tr>\n",
              "      <th>10009</th>\n",
              "      <td>27457</td>\n",
              "      <td>City</td>\n",
              "      <td>9618696625</td>\n",
              "      <td>Female</td>\n",
              "      <td>34</td>\n",
              "      <td>School leaver</td>\n",
              "      <td>Single</td>\n",
              "      <td>3.0</td>\n",
              "      <td>Business</td>\n",
              "      <td>86877</td>\n",
              "      <td>...</td>\n",
              "      <td>Yes</td>\n",
              "      <td>Yes</td>\n",
              "      <td>17848</td>\n",
              "      <td>Yes</td>\n",
              "      <td>Yes</td>\n",
              "      <td>Yes</td>\n",
              "      <td>No</td>\n",
              "      <td>No</td>\n",
              "      <td>No</td>\n",
              "      <td>0</td>\n",
              "    </tr>\n",
              "    <tr>\n",
              "      <th>10010</th>\n",
              "      <td>36135</td>\n",
              "      <td>Countryside</td>\n",
              "      <td>9857653668</td>\n",
              "      <td>Male</td>\n",
              "      <td>49</td>\n",
              "      <td>Masters</td>\n",
              "      <td>Married</td>\n",
              "      <td>3.0</td>\n",
              "      <td>Employment</td>\n",
              "      <td>77451</td>\n",
              "      <td>...</td>\n",
              "      <td>No</td>\n",
              "      <td>No</td>\n",
              "      <td>15492</td>\n",
              "      <td>Yes</td>\n",
              "      <td>No</td>\n",
              "      <td>Yes</td>\n",
              "      <td>Yes</td>\n",
              "      <td>No</td>\n",
              "      <td>Yes</td>\n",
              "      <td>1</td>\n",
              "    </tr>\n",
              "    <tr>\n",
              "      <th>10011</th>\n",
              "      <td>67468</td>\n",
              "      <td>Town</td>\n",
              "      <td>9086679454</td>\n",
              "      <td>Female</td>\n",
              "      <td>39</td>\n",
              "      <td>High School</td>\n",
              "      <td>Divorced</td>\n",
              "      <td>1.0</td>\n",
              "      <td>Business</td>\n",
              "      <td>61016</td>\n",
              "      <td>...</td>\n",
              "      <td>Yes</td>\n",
              "      <td>Yes</td>\n",
              "      <td>19098</td>\n",
              "      <td>No</td>\n",
              "      <td>Yes</td>\n",
              "      <td>No</td>\n",
              "      <td>Yes</td>\n",
              "      <td>No</td>\n",
              "      <td>No</td>\n",
              "      <td>0</td>\n",
              "    </tr>\n",
              "  </tbody>\n",
              "</table>\n",
              "<p>12 rows × 39 columns</p>\n",
              "</div>\n",
              "    <div class=\"colab-df-buttons\">\n",
              "\n",
              "  <div class=\"colab-df-container\">\n",
              "    <button class=\"colab-df-convert\" onclick=\"convertToInteractive('df-dc16d823-2c52-47d1-b976-975d69168e8c')\"\n",
              "            title=\"Convert this dataframe to an interactive table.\"\n",
              "            style=\"display:none;\">\n",
              "\n",
              "  <svg xmlns=\"http://www.w3.org/2000/svg\" height=\"24px\" viewBox=\"0 -960 960 960\">\n",
              "    <path d=\"M120-120v-720h720v720H120Zm60-500h600v-160H180v160Zm220 220h160v-160H400v160Zm0 220h160v-160H400v160ZM180-400h160v-160H180v160Zm440 0h160v-160H620v160ZM180-180h160v-160H180v160Zm440 0h160v-160H620v160Z\"/>\n",
              "  </svg>\n",
              "    </button>\n",
              "\n",
              "  <style>\n",
              "    .colab-df-container {\n",
              "      display:flex;\n",
              "      gap: 12px;\n",
              "    }\n",
              "\n",
              "    .colab-df-convert {\n",
              "      background-color: #E8F0FE;\n",
              "      border: none;\n",
              "      border-radius: 50%;\n",
              "      cursor: pointer;\n",
              "      display: none;\n",
              "      fill: #1967D2;\n",
              "      height: 32px;\n",
              "      padding: 0 0 0 0;\n",
              "      width: 32px;\n",
              "    }\n",
              "\n",
              "    .colab-df-convert:hover {\n",
              "      background-color: #E2EBFA;\n",
              "      box-shadow: 0px 1px 2px rgba(60, 64, 67, 0.3), 0px 1px 3px 1px rgba(60, 64, 67, 0.15);\n",
              "      fill: #174EA6;\n",
              "    }\n",
              "\n",
              "    .colab-df-buttons div {\n",
              "      margin-bottom: 4px;\n",
              "    }\n",
              "\n",
              "    [theme=dark] .colab-df-convert {\n",
              "      background-color: #3B4455;\n",
              "      fill: #D2E3FC;\n",
              "    }\n",
              "\n",
              "    [theme=dark] .colab-df-convert:hover {\n",
              "      background-color: #434B5C;\n",
              "      box-shadow: 0px 1px 3px 1px rgba(0, 0, 0, 0.15);\n",
              "      filter: drop-shadow(0px 1px 2px rgba(0, 0, 0, 0.3));\n",
              "      fill: #FFFFFF;\n",
              "    }\n",
              "  </style>\n",
              "\n",
              "    <script>\n",
              "      const buttonEl =\n",
              "        document.querySelector('#df-dc16d823-2c52-47d1-b976-975d69168e8c button.colab-df-convert');\n",
              "      buttonEl.style.display =\n",
              "        google.colab.kernel.accessAllowed ? 'block' : 'none';\n",
              "\n",
              "      async function convertToInteractive(key) {\n",
              "        const element = document.querySelector('#df-dc16d823-2c52-47d1-b976-975d69168e8c');\n",
              "        const dataTable =\n",
              "          await google.colab.kernel.invokeFunction('convertToInteractive',\n",
              "                                                    [key], {});\n",
              "        if (!dataTable) return;\n",
              "\n",
              "        const docLinkHtml = 'Like what you see? Visit the ' +\n",
              "          '<a target=\"_blank\" href=https://colab.research.google.com/notebooks/data_table.ipynb>data table notebook</a>'\n",
              "          + ' to learn more about interactive tables.';\n",
              "        element.innerHTML = '';\n",
              "        dataTable['output_type'] = 'display_data';\n",
              "        await google.colab.output.renderOutput(dataTable, element);\n",
              "        const docLink = document.createElement('div');\n",
              "        docLink.innerHTML = docLinkHtml;\n",
              "        element.appendChild(docLink);\n",
              "      }\n",
              "    </script>\n",
              "  </div>\n",
              "\n",
              "\n",
              "<div id=\"df-19d8c8f9-148e-4e65-bc4e-b9410020c968\">\n",
              "  <button class=\"colab-df-quickchart\" onclick=\"quickchart('df-19d8c8f9-148e-4e65-bc4e-b9410020c968')\"\n",
              "            title=\"Suggest charts\"\n",
              "            style=\"display:none;\">\n",
              "\n",
              "<svg xmlns=\"http://www.w3.org/2000/svg\" height=\"24px\"viewBox=\"0 0 24 24\"\n",
              "     width=\"24px\">\n",
              "    <g>\n",
              "        <path d=\"M19 3H5c-1.1 0-2 .9-2 2v14c0 1.1.9 2 2 2h14c1.1 0 2-.9 2-2V5c0-1.1-.9-2-2-2zM9 17H7v-7h2v7zm4 0h-2V7h2v10zm4 0h-2v-4h2v4z\"/>\n",
              "    </g>\n",
              "</svg>\n",
              "  </button>\n",
              "\n",
              "<style>\n",
              "  .colab-df-quickchart {\n",
              "      --bg-color: #E8F0FE;\n",
              "      --fill-color: #1967D2;\n",
              "      --hover-bg-color: #E2EBFA;\n",
              "      --hover-fill-color: #174EA6;\n",
              "      --disabled-fill-color: #AAA;\n",
              "      --disabled-bg-color: #DDD;\n",
              "  }\n",
              "\n",
              "  [theme=dark] .colab-df-quickchart {\n",
              "      --bg-color: #3B4455;\n",
              "      --fill-color: #D2E3FC;\n",
              "      --hover-bg-color: #434B5C;\n",
              "      --hover-fill-color: #FFFFFF;\n",
              "      --disabled-bg-color: #3B4455;\n",
              "      --disabled-fill-color: #666;\n",
              "  }\n",
              "\n",
              "  .colab-df-quickchart {\n",
              "    background-color: var(--bg-color);\n",
              "    border: none;\n",
              "    border-radius: 50%;\n",
              "    cursor: pointer;\n",
              "    display: none;\n",
              "    fill: var(--fill-color);\n",
              "    height: 32px;\n",
              "    padding: 0;\n",
              "    width: 32px;\n",
              "  }\n",
              "\n",
              "  .colab-df-quickchart:hover {\n",
              "    background-color: var(--hover-bg-color);\n",
              "    box-shadow: 0 1px 2px rgba(60, 64, 67, 0.3), 0 1px 3px 1px rgba(60, 64, 67, 0.15);\n",
              "    fill: var(--button-hover-fill-color);\n",
              "  }\n",
              "\n",
              "  .colab-df-quickchart-complete:disabled,\n",
              "  .colab-df-quickchart-complete:disabled:hover {\n",
              "    background-color: var(--disabled-bg-color);\n",
              "    fill: var(--disabled-fill-color);\n",
              "    box-shadow: none;\n",
              "  }\n",
              "\n",
              "  .colab-df-spinner {\n",
              "    border: 2px solid var(--fill-color);\n",
              "    border-color: transparent;\n",
              "    border-bottom-color: var(--fill-color);\n",
              "    animation:\n",
              "      spin 1s steps(1) infinite;\n",
              "  }\n",
              "\n",
              "  @keyframes spin {\n",
              "    0% {\n",
              "      border-color: transparent;\n",
              "      border-bottom-color: var(--fill-color);\n",
              "      border-left-color: var(--fill-color);\n",
              "    }\n",
              "    20% {\n",
              "      border-color: transparent;\n",
              "      border-left-color: var(--fill-color);\n",
              "      border-top-color: var(--fill-color);\n",
              "    }\n",
              "    30% {\n",
              "      border-color: transparent;\n",
              "      border-left-color: var(--fill-color);\n",
              "      border-top-color: var(--fill-color);\n",
              "      border-right-color: var(--fill-color);\n",
              "    }\n",
              "    40% {\n",
              "      border-color: transparent;\n",
              "      border-right-color: var(--fill-color);\n",
              "      border-top-color: var(--fill-color);\n",
              "    }\n",
              "    60% {\n",
              "      border-color: transparent;\n",
              "      border-right-color: var(--fill-color);\n",
              "    }\n",
              "    80% {\n",
              "      border-color: transparent;\n",
              "      border-right-color: var(--fill-color);\n",
              "      border-bottom-color: var(--fill-color);\n",
              "    }\n",
              "    90% {\n",
              "      border-color: transparent;\n",
              "      border-bottom-color: var(--fill-color);\n",
              "    }\n",
              "  }\n",
              "</style>\n",
              "\n",
              "  <script>\n",
              "    async function quickchart(key) {\n",
              "      const quickchartButtonEl =\n",
              "        document.querySelector('#' + key + ' button');\n",
              "      quickchartButtonEl.disabled = true;  // To prevent multiple clicks.\n",
              "      quickchartButtonEl.classList.add('colab-df-spinner');\n",
              "      try {\n",
              "        const charts = await google.colab.kernel.invokeFunction(\n",
              "            'suggestCharts', [key], {});\n",
              "      } catch (error) {\n",
              "        console.error('Error during call to suggestCharts:', error);\n",
              "      }\n",
              "      quickchartButtonEl.classList.remove('colab-df-spinner');\n",
              "      quickchartButtonEl.classList.add('colab-df-quickchart-complete');\n",
              "    }\n",
              "    (() => {\n",
              "      let quickchartButtonEl =\n",
              "        document.querySelector('#df-19d8c8f9-148e-4e65-bc4e-b9410020c968 button');\n",
              "      quickchartButtonEl.style.display =\n",
              "        google.colab.kernel.accessAllowed ? 'block' : 'none';\n",
              "    })();\n",
              "  </script>\n",
              "</div>\n",
              "    </div>\n",
              "  </div>\n"
            ],
            "application/vnd.google.colaboratory.intrinsic+json": {
              "type": "dataframe",
              "variable_name": "duplicates"
            }
          },
          "metadata": {},
          "execution_count": 4
        }
      ]
    },
    {
      "cell_type": "code",
      "source": [
        "#deleting the duplicate records\n",
        "Hiscoxdata = Hiscox.drop_duplicates()"
      ],
      "metadata": {
        "id": "DjIegZLp9ij-"
      },
      "execution_count": 5,
      "outputs": []
    },
    {
      "cell_type": "code",
      "source": [
        "#data without any duplicates\n",
        "Hiscoxdata"
      ],
      "metadata": {
        "id": "1cVfIHcr-p_X"
      },
      "execution_count": null,
      "outputs": []
    },
    {
      "cell_type": "markdown",
      "source": [
        "***Data manipulation: Checking for missing values***"
      ],
      "metadata": {
        "id": "x7HKBxrSATw-"
      }
    },
    {
      "cell_type": "code",
      "source": [
        "nullvalues = Hiscoxdata.isnull().sum()\n",
        "print(nullvalues)"
      ],
      "metadata": {
        "colab": {
          "base_uri": "https://localhost:8080/"
        },
        "id": "v7eBoI0zDmKz",
        "outputId": "f965b6f4-16bc-4694-fa58-3443d64dcb9f"
      },
      "execution_count": 7,
      "outputs": [
        {
          "output_type": "stream",
          "name": "stdout",
          "text": [
            "Id                                                                                0\n",
            "Location                                                                          0\n",
            "Phone number                                                                      0\n",
            "Gender                                                                            0\n",
            "Age                                                                               0\n",
            "Education level                                                                   0\n",
            "Marital status                                                                    0\n",
            "No of dependents                                                                 29\n",
            "Occupation                                                                        0\n",
            "Income                                                                            0\n",
            "Credit score                                                                     21\n",
            "You & your immediate family reside in the UK?                                     0\n",
            "Homeownership status                                                              0\n",
            "Home value more than £500,000?                                                    0\n",
            "Home value                                                                        0\n",
            "Is this the main residence                                                        0\n",
            "Made more than 3 home insurance claims in the last 5 years?                       0\n",
            "Did you file a lawsuit against an Insurance company in the past?                  0\n",
            "Property suffered any damage(landslip, subsidence or heave?)                      0\n",
            "Property ever suffered from flooding or its in an area under a flood warning?     0\n",
            "Insured ever been bankrup/debit relief order/criminal offence?                    0\n",
            "Type of property                                                                  0\n",
            "Standard construction, stones, bricks and tiles?                                  0\n",
            "Roof is flat or pitched?                                                          0\n",
            "Listed building?                                                                  0\n",
            "Number of bedroom                                                                 1\n",
            "Age of home                                                                       0\n",
            "Do you have smoke alarm?                                                          1\n",
            "Do you have locks on doors & windows?                                             0\n",
            "Do you have any security systems?                                                 1\n",
            "Property left empty for long periods? (Over 60 days)                              1\n",
            "Rebuild costs                                                                     0\n",
            "Include content in Home Insurance                                                 1\n",
            "Is value of all home content more than £1,00,000?                                 1\n",
            "Do you want to include home content in home insurance?                            1\n",
            "Do you want any additional cover for the content?                                 1\n",
            "Want to add a joint policyholder                                                  1\n",
            "Refused/cancelled/declined insurance                                              1\n",
            "Claim status                                                                      0\n",
            "dtype: int64\n"
          ]
        }
      ]
    },
    {
      "cell_type": "markdown",
      "source": [
        "***Replacing missing values of 'No of dependants' by mean with an imputer***"
      ],
      "metadata": {
        "id": "oZbV28pGnAUj"
      }
    },
    {
      "cell_type": "code",
      "source": [
        "#replacing the missing values for column 'No of dependents'\n",
        "dependent_values = Hiscoxdata['No of dependents']\n",
        "\n",
        "#converting 1D data into 2D\n",
        "dependent_values_2d = dependent_values.values.reshape(-1, 1)\n",
        "print(dependent_values_2d)"
      ],
      "metadata": {
        "colab": {
          "base_uri": "https://localhost:8080/"
        },
        "id": "Ax4cWtn2nOIf",
        "outputId": "a3f95c20-c008-410d-d1a6-e1183ede5554"
      },
      "execution_count": 8,
      "outputs": [
        {
          "output_type": "stream",
          "name": "stdout",
          "text": [
            "[[3.]\n",
            " [2.]\n",
            " [2.]\n",
            " ...\n",
            " [3.]\n",
            " [3.]\n",
            " [1.]]\n"
          ]
        }
      ]
    },
    {
      "cell_type": "code",
      "source": [
        "#replacing the data with mean as the data is uniform\n",
        "imputer = SimpleImputer(strategy='mean')\n",
        "imputer.fit(dependent_values_2d)\n",
        "imputed_data = imputer.transform(dependent_values_2d)\n",
        "print(imputed_data)"
      ],
      "metadata": {
        "colab": {
          "base_uri": "https://localhost:8080/"
        },
        "id": "wVviICLspMNz",
        "outputId": "83592e91-495d-4e25-daf6-fc219176ab0d"
      },
      "execution_count": 9,
      "outputs": [
        {
          "output_type": "stream",
          "name": "stdout",
          "text": [
            "[[3.]\n",
            " [2.]\n",
            " [2.]\n",
            " ...\n",
            " [3.]\n",
            " [3.]\n",
            " [1.]]\n"
          ]
        }
      ]
    },
    {
      "cell_type": "code",
      "source": [
        "#converting 2d data into 1D\n",
        "array_2d = np.array(imputed_data)\n",
        "array_1d_flatten = array_2d.flatten()\n",
        "dependent = pd.DataFrame(array_1d_flatten)\n",
        "\n",
        "#changing the datatype from float to integer\n",
        "dependentdata = dependent.astype(int)\n",
        "dependentdata"
      ],
      "metadata": {
        "id": "_l9iOGkXrqNd"
      },
      "execution_count": null,
      "outputs": []
    },
    {
      "cell_type": "code",
      "source": [
        "#checking for missing values\n",
        "print(dependentdata.isnull().sum())"
      ],
      "metadata": {
        "colab": {
          "base_uri": "https://localhost:8080/"
        },
        "id": "f8GLB8h00ABx",
        "outputId": "754e025d-374b-461a-e630-8760b8de9fdc"
      },
      "execution_count": 20,
      "outputs": [
        {
          "output_type": "stream",
          "name": "stdout",
          "text": [
            "0    0\n",
            "dtype: int64\n"
          ]
        }
      ]
    },
    {
      "cell_type": "code",
      "source": [
        "#replacing imputed dependant values into the main Hiscoxdata\n",
        "Hiscoxdata_df = pd.DataFrame(Hiscoxdata)\n",
        "Hiscoxdata_df['No of dependents'] = dependentdata[0].values\n",
        "Hiscoxdata_df.isnull().sum()"
      ],
      "metadata": {
        "colab": {
          "base_uri": "https://localhost:8080/"
        },
        "id": "1vgU7ahp0WSC",
        "outputId": "8fadc735-654c-4cc8-9377-c903e95d1c81"
      },
      "execution_count": 32,
      "outputs": [
        {
          "output_type": "execute_result",
          "data": {
            "text/plain": [
              "Id                                                                                0\n",
              "Location                                                                          0\n",
              "Phone number                                                                      0\n",
              "Gender                                                                            0\n",
              "Age                                                                               0\n",
              "Education level                                                                   0\n",
              "Marital status                                                                    0\n",
              "No of dependents                                                                  0\n",
              "Occupation                                                                        0\n",
              "Income                                                                            0\n",
              "Credit score                                                                     21\n",
              "You & your immediate family reside in the UK?                                     0\n",
              "Homeownership status                                                              0\n",
              "Home value more than £500,000?                                                    0\n",
              "Home value                                                                        0\n",
              "Is this the main residence                                                        0\n",
              "Made more than 3 home insurance claims in the last 5 years?                       0\n",
              "Did you file a lawsuit against an Insurance company in the past?                  0\n",
              "Property suffered any damage(landslip, subsidence or heave?)                      0\n",
              "Property ever suffered from flooding or its in an area under a flood warning?     0\n",
              "Insured ever been bankrup/debit relief order/criminal offence?                    0\n",
              "Type of property                                                                  0\n",
              "Standard construction, stones, bricks and tiles?                                  0\n",
              "Roof is flat or pitched?                                                          0\n",
              "Listed building?                                                                  0\n",
              "Number of bedroom                                                                 1\n",
              "Age of home                                                                       0\n",
              "Do you have smoke alarm?                                                          1\n",
              "Do you have locks on doors & windows?                                             0\n",
              "Do you have any security systems?                                                 1\n",
              "Property left empty for long periods? (Over 60 days)                              1\n",
              "Rebuild costs                                                                     0\n",
              "Include content in Home Insurance                                                 1\n",
              "Is value of all home content more than £1,00,000?                                 1\n",
              "Do you want to include home content in home insurance?                            1\n",
              "Do you want any additional cover for the content?                                 1\n",
              "Want to add a joint policyholder                                                  1\n",
              "Refused/cancelled/declined insurance                                              1\n",
              "Claim status                                                                      0\n",
              "dtype: int64"
            ]
          },
          "metadata": {},
          "execution_count": 32
        }
      ]
    },
    {
      "cell_type": "markdown",
      "source": [
        "***Replacing missing values of 'Credit score' by median with an imputer***"
      ],
      "metadata": {
        "id": "vi4wN5_A30C5"
      }
    },
    {
      "cell_type": "code",
      "source": [
        "#replacing the missing values for column 'Credit score'\n",
        "credit_values = Hiscoxdata['Credit score']\n",
        "\n",
        "#converting 1D data into 2D\n",
        "credit_values_2d = credit_values.values.reshape(-1, 1)\n",
        "print(credit_values_2d)"
      ],
      "metadata": {
        "colab": {
          "base_uri": "https://localhost:8080/"
        },
        "id": "wfiuZ4PL3547",
        "outputId": "57641cac-ec6e-4a48-d895-3e6bdfd4b24d"
      },
      "execution_count": 34,
      "outputs": [
        {
          "output_type": "stream",
          "name": "stdout",
          "text": [
            "[[ 2.]\n",
            " [10.]\n",
            " [ 2.]\n",
            " ...\n",
            " [ 9.]\n",
            " [ 8.]\n",
            " [10.]]\n"
          ]
        }
      ]
    },
    {
      "cell_type": "code",
      "source": [
        "#replacing the missing value of the Credit score with the median when there are outliers, by locating the centre value\n",
        "imputer1 = SimpleImputer(strategy='median')\n",
        "imputer1.fit(credit_values_2d)\n",
        "imputed_data1 = imputer1.transform(credit_values_2d)\n",
        "print(imputed_data1)"
      ],
      "metadata": {
        "colab": {
          "base_uri": "https://localhost:8080/"
        },
        "id": "FSUR_kcS4Us4",
        "outputId": "85a9b40f-9022-4c0e-ca74-b1e29a649ecc"
      },
      "execution_count": 35,
      "outputs": [
        {
          "output_type": "stream",
          "name": "stdout",
          "text": [
            "[[ 2.]\n",
            " [10.]\n",
            " [ 2.]\n",
            " ...\n",
            " [ 9.]\n",
            " [ 8.]\n",
            " [10.]]\n"
          ]
        }
      ]
    },
    {
      "cell_type": "code",
      "source": [
        "#converting 2d data into 1D\n",
        "array_2d1 = np.array(imputed_data1)\n",
        "array_1d_flatten1 = array_2d1.flatten()\n",
        "credit = pd.DataFrame(array_1d_flatten1)\n",
        "\n",
        "#changing the datatype from float to integer\n",
        "creditdata = credit.astype(int)\n",
        "creditdata"
      ],
      "metadata": {
        "colab": {
          "base_uri": "https://localhost:8080/",
          "height": 424
        },
        "id": "ckAWZnyD40BH",
        "outputId": "07ff2e44-773b-42ba-a7a7-d811faf00658"
      },
      "execution_count": 36,
      "outputs": [
        {
          "output_type": "execute_result",
          "data": {
            "text/plain": [
              "       0\n",
              "0      2\n",
              "1     10\n",
              "2      2\n",
              "3      1\n",
              "4      5\n",
              "...   ..\n",
              "9995   7\n",
              "9996   8\n",
              "9997   9\n",
              "9998   8\n",
              "9999  10\n",
              "\n",
              "[10000 rows x 1 columns]"
            ],
            "text/html": [
              "\n",
              "  <div id=\"df-ffad9f8d-a83e-4149-8ea2-8740a27e7d52\" class=\"colab-df-container\">\n",
              "    <div>\n",
              "<style scoped>\n",
              "    .dataframe tbody tr th:only-of-type {\n",
              "        vertical-align: middle;\n",
              "    }\n",
              "\n",
              "    .dataframe tbody tr th {\n",
              "        vertical-align: top;\n",
              "    }\n",
              "\n",
              "    .dataframe thead th {\n",
              "        text-align: right;\n",
              "    }\n",
              "</style>\n",
              "<table border=\"1\" class=\"dataframe\">\n",
              "  <thead>\n",
              "    <tr style=\"text-align: right;\">\n",
              "      <th></th>\n",
              "      <th>0</th>\n",
              "    </tr>\n",
              "  </thead>\n",
              "  <tbody>\n",
              "    <tr>\n",
              "      <th>0</th>\n",
              "      <td>2</td>\n",
              "    </tr>\n",
              "    <tr>\n",
              "      <th>1</th>\n",
              "      <td>10</td>\n",
              "    </tr>\n",
              "    <tr>\n",
              "      <th>2</th>\n",
              "      <td>2</td>\n",
              "    </tr>\n",
              "    <tr>\n",
              "      <th>3</th>\n",
              "      <td>1</td>\n",
              "    </tr>\n",
              "    <tr>\n",
              "      <th>4</th>\n",
              "      <td>5</td>\n",
              "    </tr>\n",
              "    <tr>\n",
              "      <th>...</th>\n",
              "      <td>...</td>\n",
              "    </tr>\n",
              "    <tr>\n",
              "      <th>9995</th>\n",
              "      <td>7</td>\n",
              "    </tr>\n",
              "    <tr>\n",
              "      <th>9996</th>\n",
              "      <td>8</td>\n",
              "    </tr>\n",
              "    <tr>\n",
              "      <th>9997</th>\n",
              "      <td>9</td>\n",
              "    </tr>\n",
              "    <tr>\n",
              "      <th>9998</th>\n",
              "      <td>8</td>\n",
              "    </tr>\n",
              "    <tr>\n",
              "      <th>9999</th>\n",
              "      <td>10</td>\n",
              "    </tr>\n",
              "  </tbody>\n",
              "</table>\n",
              "<p>10000 rows × 1 columns</p>\n",
              "</div>\n",
              "    <div class=\"colab-df-buttons\">\n",
              "\n",
              "  <div class=\"colab-df-container\">\n",
              "    <button class=\"colab-df-convert\" onclick=\"convertToInteractive('df-ffad9f8d-a83e-4149-8ea2-8740a27e7d52')\"\n",
              "            title=\"Convert this dataframe to an interactive table.\"\n",
              "            style=\"display:none;\">\n",
              "\n",
              "  <svg xmlns=\"http://www.w3.org/2000/svg\" height=\"24px\" viewBox=\"0 -960 960 960\">\n",
              "    <path d=\"M120-120v-720h720v720H120Zm60-500h600v-160H180v160Zm220 220h160v-160H400v160Zm0 220h160v-160H400v160ZM180-400h160v-160H180v160Zm440 0h160v-160H620v160ZM180-180h160v-160H180v160Zm440 0h160v-160H620v160Z\"/>\n",
              "  </svg>\n",
              "    </button>\n",
              "\n",
              "  <style>\n",
              "    .colab-df-container {\n",
              "      display:flex;\n",
              "      gap: 12px;\n",
              "    }\n",
              "\n",
              "    .colab-df-convert {\n",
              "      background-color: #E8F0FE;\n",
              "      border: none;\n",
              "      border-radius: 50%;\n",
              "      cursor: pointer;\n",
              "      display: none;\n",
              "      fill: #1967D2;\n",
              "      height: 32px;\n",
              "      padding: 0 0 0 0;\n",
              "      width: 32px;\n",
              "    }\n",
              "\n",
              "    .colab-df-convert:hover {\n",
              "      background-color: #E2EBFA;\n",
              "      box-shadow: 0px 1px 2px rgba(60, 64, 67, 0.3), 0px 1px 3px 1px rgba(60, 64, 67, 0.15);\n",
              "      fill: #174EA6;\n",
              "    }\n",
              "\n",
              "    .colab-df-buttons div {\n",
              "      margin-bottom: 4px;\n",
              "    }\n",
              "\n",
              "    [theme=dark] .colab-df-convert {\n",
              "      background-color: #3B4455;\n",
              "      fill: #D2E3FC;\n",
              "    }\n",
              "\n",
              "    [theme=dark] .colab-df-convert:hover {\n",
              "      background-color: #434B5C;\n",
              "      box-shadow: 0px 1px 3px 1px rgba(0, 0, 0, 0.15);\n",
              "      filter: drop-shadow(0px 1px 2px rgba(0, 0, 0, 0.3));\n",
              "      fill: #FFFFFF;\n",
              "    }\n",
              "  </style>\n",
              "\n",
              "    <script>\n",
              "      const buttonEl =\n",
              "        document.querySelector('#df-ffad9f8d-a83e-4149-8ea2-8740a27e7d52 button.colab-df-convert');\n",
              "      buttonEl.style.display =\n",
              "        google.colab.kernel.accessAllowed ? 'block' : 'none';\n",
              "\n",
              "      async function convertToInteractive(key) {\n",
              "        const element = document.querySelector('#df-ffad9f8d-a83e-4149-8ea2-8740a27e7d52');\n",
              "        const dataTable =\n",
              "          await google.colab.kernel.invokeFunction('convertToInteractive',\n",
              "                                                    [key], {});\n",
              "        if (!dataTable) return;\n",
              "\n",
              "        const docLinkHtml = 'Like what you see? Visit the ' +\n",
              "          '<a target=\"_blank\" href=https://colab.research.google.com/notebooks/data_table.ipynb>data table notebook</a>'\n",
              "          + ' to learn more about interactive tables.';\n",
              "        element.innerHTML = '';\n",
              "        dataTable['output_type'] = 'display_data';\n",
              "        await google.colab.output.renderOutput(dataTable, element);\n",
              "        const docLink = document.createElement('div');\n",
              "        docLink.innerHTML = docLinkHtml;\n",
              "        element.appendChild(docLink);\n",
              "      }\n",
              "    </script>\n",
              "  </div>\n",
              "\n",
              "\n",
              "<div id=\"df-6ef0ba3f-8a35-4935-82fc-5815200b6d72\">\n",
              "  <button class=\"colab-df-quickchart\" onclick=\"quickchart('df-6ef0ba3f-8a35-4935-82fc-5815200b6d72')\"\n",
              "            title=\"Suggest charts\"\n",
              "            style=\"display:none;\">\n",
              "\n",
              "<svg xmlns=\"http://www.w3.org/2000/svg\" height=\"24px\"viewBox=\"0 0 24 24\"\n",
              "     width=\"24px\">\n",
              "    <g>\n",
              "        <path d=\"M19 3H5c-1.1 0-2 .9-2 2v14c0 1.1.9 2 2 2h14c1.1 0 2-.9 2-2V5c0-1.1-.9-2-2-2zM9 17H7v-7h2v7zm4 0h-2V7h2v10zm4 0h-2v-4h2v4z\"/>\n",
              "    </g>\n",
              "</svg>\n",
              "  </button>\n",
              "\n",
              "<style>\n",
              "  .colab-df-quickchart {\n",
              "      --bg-color: #E8F0FE;\n",
              "      --fill-color: #1967D2;\n",
              "      --hover-bg-color: #E2EBFA;\n",
              "      --hover-fill-color: #174EA6;\n",
              "      --disabled-fill-color: #AAA;\n",
              "      --disabled-bg-color: #DDD;\n",
              "  }\n",
              "\n",
              "  [theme=dark] .colab-df-quickchart {\n",
              "      --bg-color: #3B4455;\n",
              "      --fill-color: #D2E3FC;\n",
              "      --hover-bg-color: #434B5C;\n",
              "      --hover-fill-color: #FFFFFF;\n",
              "      --disabled-bg-color: #3B4455;\n",
              "      --disabled-fill-color: #666;\n",
              "  }\n",
              "\n",
              "  .colab-df-quickchart {\n",
              "    background-color: var(--bg-color);\n",
              "    border: none;\n",
              "    border-radius: 50%;\n",
              "    cursor: pointer;\n",
              "    display: none;\n",
              "    fill: var(--fill-color);\n",
              "    height: 32px;\n",
              "    padding: 0;\n",
              "    width: 32px;\n",
              "  }\n",
              "\n",
              "  .colab-df-quickchart:hover {\n",
              "    background-color: var(--hover-bg-color);\n",
              "    box-shadow: 0 1px 2px rgba(60, 64, 67, 0.3), 0 1px 3px 1px rgba(60, 64, 67, 0.15);\n",
              "    fill: var(--button-hover-fill-color);\n",
              "  }\n",
              "\n",
              "  .colab-df-quickchart-complete:disabled,\n",
              "  .colab-df-quickchart-complete:disabled:hover {\n",
              "    background-color: var(--disabled-bg-color);\n",
              "    fill: var(--disabled-fill-color);\n",
              "    box-shadow: none;\n",
              "  }\n",
              "\n",
              "  .colab-df-spinner {\n",
              "    border: 2px solid var(--fill-color);\n",
              "    border-color: transparent;\n",
              "    border-bottom-color: var(--fill-color);\n",
              "    animation:\n",
              "      spin 1s steps(1) infinite;\n",
              "  }\n",
              "\n",
              "  @keyframes spin {\n",
              "    0% {\n",
              "      border-color: transparent;\n",
              "      border-bottom-color: var(--fill-color);\n",
              "      border-left-color: var(--fill-color);\n",
              "    }\n",
              "    20% {\n",
              "      border-color: transparent;\n",
              "      border-left-color: var(--fill-color);\n",
              "      border-top-color: var(--fill-color);\n",
              "    }\n",
              "    30% {\n",
              "      border-color: transparent;\n",
              "      border-left-color: var(--fill-color);\n",
              "      border-top-color: var(--fill-color);\n",
              "      border-right-color: var(--fill-color);\n",
              "    }\n",
              "    40% {\n",
              "      border-color: transparent;\n",
              "      border-right-color: var(--fill-color);\n",
              "      border-top-color: var(--fill-color);\n",
              "    }\n",
              "    60% {\n",
              "      border-color: transparent;\n",
              "      border-right-color: var(--fill-color);\n",
              "    }\n",
              "    80% {\n",
              "      border-color: transparent;\n",
              "      border-right-color: var(--fill-color);\n",
              "      border-bottom-color: var(--fill-color);\n",
              "    }\n",
              "    90% {\n",
              "      border-color: transparent;\n",
              "      border-bottom-color: var(--fill-color);\n",
              "    }\n",
              "  }\n",
              "</style>\n",
              "\n",
              "  <script>\n",
              "    async function quickchart(key) {\n",
              "      const quickchartButtonEl =\n",
              "        document.querySelector('#' + key + ' button');\n",
              "      quickchartButtonEl.disabled = true;  // To prevent multiple clicks.\n",
              "      quickchartButtonEl.classList.add('colab-df-spinner');\n",
              "      try {\n",
              "        const charts = await google.colab.kernel.invokeFunction(\n",
              "            'suggestCharts', [key], {});\n",
              "      } catch (error) {\n",
              "        console.error('Error during call to suggestCharts:', error);\n",
              "      }\n",
              "      quickchartButtonEl.classList.remove('colab-df-spinner');\n",
              "      quickchartButtonEl.classList.add('colab-df-quickchart-complete');\n",
              "    }\n",
              "    (() => {\n",
              "      let quickchartButtonEl =\n",
              "        document.querySelector('#df-6ef0ba3f-8a35-4935-82fc-5815200b6d72 button');\n",
              "      quickchartButtonEl.style.display =\n",
              "        google.colab.kernel.accessAllowed ? 'block' : 'none';\n",
              "    })();\n",
              "  </script>\n",
              "</div>\n",
              "    </div>\n",
              "  </div>\n"
            ],
            "application/vnd.google.colaboratory.intrinsic+json": {
              "type": "dataframe",
              "variable_name": "creditdata",
              "summary": "{\n  \"name\": \"creditdata\",\n  \"rows\": 10000,\n  \"fields\": [\n    {\n      \"column\": 0,\n      \"properties\": {\n        \"dtype\": \"number\",\n        \"std\": 2,\n        \"min\": 1,\n        \"max\": 10,\n        \"num_unique_values\": 10,\n        \"samples\": [\n          6,\n          10,\n          3\n        ],\n        \"semantic_type\": \"\",\n        \"description\": \"\"\n      }\n    }\n  ]\n}"
            }
          },
          "metadata": {},
          "execution_count": 36
        }
      ]
    },
    {
      "cell_type": "code",
      "source": [
        "#checking for missing values\n",
        "print(creditdata.isnull().sum())"
      ],
      "metadata": {
        "colab": {
          "base_uri": "https://localhost:8080/"
        },
        "id": "Eczes22Y5JFJ",
        "outputId": "3035fd35-4b93-4864-fce4-b3d484eecb9e"
      },
      "execution_count": 37,
      "outputs": [
        {
          "output_type": "stream",
          "name": "stdout",
          "text": [
            "0    0\n",
            "dtype: int64\n"
          ]
        }
      ]
    },
    {
      "cell_type": "code",
      "source": [
        "#replacing imputed 'Credit scores' into the main Hiscoxdata\n",
        "Hiscoxdata_df = pd.DataFrame(Hiscoxdata)\n",
        "Hiscoxdata_df['Credit score'] = creditdata[0].values\n",
        "Hiscoxdata_df.isnull().sum()"
      ],
      "metadata": {
        "colab": {
          "base_uri": "https://localhost:8080/"
        },
        "id": "2arbx9hu5WYt",
        "outputId": "3ab61259-d909-4859-93b3-3711e8a74274"
      },
      "execution_count": 38,
      "outputs": [
        {
          "output_type": "execute_result",
          "data": {
            "text/plain": [
              "Id                                                                               0\n",
              "Location                                                                         0\n",
              "Phone number                                                                     0\n",
              "Gender                                                                           0\n",
              "Age                                                                              0\n",
              "Education level                                                                  0\n",
              "Marital status                                                                   0\n",
              "No of dependents                                                                 0\n",
              "Occupation                                                                       0\n",
              "Income                                                                           0\n",
              "Credit score                                                                     0\n",
              "You & your immediate family reside in the UK?                                    0\n",
              "Homeownership status                                                             0\n",
              "Home value more than £500,000?                                                   0\n",
              "Home value                                                                       0\n",
              "Is this the main residence                                                       0\n",
              "Made more than 3 home insurance claims in the last 5 years?                      0\n",
              "Did you file a lawsuit against an Insurance company in the past?                 0\n",
              "Property suffered any damage(landslip, subsidence or heave?)                     0\n",
              "Property ever suffered from flooding or its in an area under a flood warning?    0\n",
              "Insured ever been bankrup/debit relief order/criminal offence?                   0\n",
              "Type of property                                                                 0\n",
              "Standard construction, stones, bricks and tiles?                                 0\n",
              "Roof is flat or pitched?                                                         0\n",
              "Listed building?                                                                 0\n",
              "Number of bedroom                                                                1\n",
              "Age of home                                                                      0\n",
              "Do you have smoke alarm?                                                         1\n",
              "Do you have locks on doors & windows?                                            0\n",
              "Do you have any security systems?                                                1\n",
              "Property left empty for long periods? (Over 60 days)                             1\n",
              "Rebuild costs                                                                    0\n",
              "Include content in Home Insurance                                                1\n",
              "Is value of all home content more than £1,00,000?                                1\n",
              "Do you want to include home content in home insurance?                           1\n",
              "Do you want any additional cover for the content?                                1\n",
              "Want to add a joint policyholder                                                 1\n",
              "Refused/cancelled/declined insurance                                             1\n",
              "Claim status                                                                     0\n",
              "dtype: int64"
            ]
          },
          "metadata": {},
          "execution_count": 38
        }
      ]
    },
    {
      "cell_type": "markdown",
      "source": [
        "***Checking for outliers on attributes 'Income' and 'Home value'***"
      ],
      "metadata": {
        "id": "xjGMI6XRG5ob"
      }
    },
    {
      "cell_type": "code",
      "source": [
        "#Creating box plots to check outliers for Income and Home value attributes\n",
        "attribute_boxplot = ['Income','Home value']\n",
        "\n",
        "for attribute in attribute_boxplot:\n",
        "  plt.figure(figsize=(8,6))\n",
        "  plt.title('Attributes Box plot')\n",
        "  sns.boxplot(x=Hiscoxdata_df[attribute])\n",
        "  plt.show()"
      ],
      "metadata": {
        "colab": {
          "base_uri": "https://localhost:8080/",
          "height": 1000
        },
        "id": "00UQvGAUFKRH",
        "outputId": "8d2c0086-bbfe-4742-abd0-e33c1ad007e6"
      },
      "execution_count": 41,
      "outputs": [
        {
          "output_type": "display_data",
          "data": {
            "text/plain": [
              "<Figure size 800x600 with 1 Axes>"
            ],
            "image/png": "[encoded data removed]"
          },
          "metadata": {}
        },
        {
          "output_type": "display_data",
          "data": {
            "text/plain": [
              "<Figure size 800x600 with 1 Axes>"
            ],
            "image/png": "[encoded data removed]"
          },
          "metadata": {}
        }
      ]
    },
    {
      "cell_type": "code",
      "source": [
        "#Checking the outlier data for attribute 'Home value'\n",
        "\n",
        "#Calculate Q1 (25th percentile) and Q3 (75th percentile)\n",
        "Q1 = np.percentile(Hiscoxdata_df['Home value'], 25)\n",
        "Q3 = np.percentile(Hiscoxdata_df['Home value'], 75)\n",
        "\n",
        "# Calculate IQR (Interquartile Range)\n",
        "IQR = Q3 - Q1\n",
        "\n",
        "# Define lower and upper bounds for identifying outliers\n",
        "lower_bound = Q1 - 1.5 * IQR\n",
        "upper_bound = Q3 + 1.5 * IQR\n",
        "\n",
        "# Identify outliers\n",
        "outliers = [x for x in Hiscoxdata_df['Home value'] if x < lower_bound or x > upper_bound]\n",
        "print(\"Identified outliers in 'Home value' attribute:\", outliers)"
      ],
      "metadata": {
        "colab": {
          "base_uri": "https://localhost:8080/"
        },
        "id": "0AwhY2XQ9ASK",
        "outputId": "9047d5b5-cbc6-4ac8-cc24-b96ffa835d83"
      },
      "execution_count": 43,
      "outputs": [
        {
          "output_type": "stream",
          "name": "stdout",
          "text": [
            "Identified outliers: [3342628, 4946892, 4928687, 3837997, 4396499]\n"
          ]
        }
      ]
    },
    {
      "cell_type": "code",
      "source": [
        "# Define a function to identify and remove outliers\n",
        "\n",
        "def remove_outliers(df, column):\n",
        "    # Calculate Q1 (25th percentile) and Q3 (75th percentile)\n",
        "    Q1 = df[column].quantile(0.25)\n",
        "    Q3 = df[column].quantile(0.75)\n",
        "\n",
        "    # Calculate IQR (Interquartile Range)\n",
        "    IQR = Q3 - Q1\n",
        "\n",
        "    # Define lower and upper bounds for identifying outliers\n",
        "    lower_bound = Q1 - 1.5 * IQR\n",
        "    upper_bound = Q3 + 1.5 * IQR\n",
        "\n",
        "    # Filter the DataFrame to exclude outliers\n",
        "    df_filtered = df[(df[column] >= lower_bound) & (df[column] <= upper_bound)]\n",
        "\n",
        "    return df_filtered\n",
        "\n",
        "# Remove outliers from column 'Home value'\n",
        "data_filtered = remove_outliers(Hiscoxdata_df, 'Home value')\n",
        "\n",
        "# Display the DataFrame without outliers in 'Home value'\n",
        "HiscoxFinal = pd.DataFrame(data_filtered)"
      ],
      "metadata": {
        "id": "JcsZ-yrsAL-5"
      },
      "execution_count": 48,
      "outputs": []
    },
    {
      "cell_type": "markdown",
      "source": [
        "## **Data Modelling - Random Forest classification model**"
      ],
      "metadata": {
        "id": "_tpyklMmCiBN"
      }
    },
    {
      "cell_type": "code",
      "source": [
        "print(HiscoxFinal.columns)"
      ],
      "metadata": {
        "colab": {
          "base_uri": "https://localhost:8080/"
        },
        "id": "IfS3W8c1Flk7",
        "outputId": "63135526-f066-4dbf-a9aa-e27f18c31071"
      },
      "execution_count": 99,
      "outputs": [
        {
          "output_type": "stream",
          "name": "stdout",
          "text": [
            "Index(['Id ', 'Location', 'Phone number', 'Gender', 'Age', 'Education level',\n",
            "       'Marital status', 'No of dependents', 'Occupation', 'Income',\n",
            "       'Credit score', 'You & your immediate family reside in the UK?',\n",
            "       'Homeownership status', 'Home value more than £500,000?', 'Home value',\n",
            "       'Is this the main residence',\n",
            "       'Made more than 3 home insurance claims in the last 5 years?',\n",
            "       'Did you file a lawsuit against an Insurance company in the past?',\n",
            "       'Property suffered any damage(landslip, subsidence or heave?)',\n",
            "       'Property ever suffered from flooding or its in an area under a flood warning?',\n",
            "       'Insured ever been bankrup/debit relief order/criminal offence?',\n",
            "       'Type of property', 'Standard construction, stones, bricks and tiles?',\n",
            "       'Roof is flat or pitched?', 'Listed building?', 'Number of bedroom',\n",
            "       'Age of home', 'Do you have smoke alarm?',\n",
            "       'Do you have locks on doors & windows?',\n",
            "       'Do you have any security systems?',\n",
            "       'Property left empty for long periods? (Over 60 days)', 'Rebuild costs',\n",
            "       'Include content in Home Insurance',\n",
            "       'Is value of all home content more than £1,00,000?',\n",
            "       'Do you want to include home content in home insurance?',\n",
            "       'Do you want any additional cover for the content?',\n",
            "       'Want to add a joint policyholder',\n",
            "       'Refused/cancelled/declined insurance', 'Claim status '],\n",
            "      dtype='object')\n"
          ]
        }
      ]
    },
    {
      "cell_type": "code",
      "source": [
        "# Perform one-hot encoding for multiple categorical columns to set dummy numerical values for categorical data\n",
        "one_hot_encoded = pd.get_dummies(HiscoxFinal, columns=['Location', 'Gender', 'Education level',\n",
        "       'Marital status', 'Occupation', 'You & your immediate family reside in the UK?',\n",
        "       'Homeownership status', 'Home value more than £500,000?',\n",
        "       'Is this the main residence',\n",
        "       'Made more than 3 home insurance claims in the last 5 years?',\n",
        "       'Did you file a lawsuit against an Insurance company in the past?',\n",
        "       'Property suffered any damage(landslip, subsidence or heave?)',\n",
        "       'Property ever suffered from flooding or its in an area under a flood warning?',\n",
        "       'Insured ever been bankrup/debit relief order/criminal offence?',\n",
        "       'Type of property', 'Standard construction, stones, bricks and tiles?',\n",
        "       'Roof is flat or pitched?', 'Listed building?', 'Do you have smoke alarm?',\n",
        "       'Do you have locks on doors & windows?',\n",
        "       'Do you have any security systems?',\n",
        "       'Property left empty for long periods? (Over 60 days)',\n",
        "       'Include content in Home Insurance',\n",
        "       'Is value of all home content more than £1,00,000?',\n",
        "       'Do you want to include home content in home insurance?',\n",
        "       'Do you want any additional cover for the content?',\n",
        "       'Want to add a joint policyholder',\n",
        "       'Refused/cancelled/declined insurance'])\n",
        "\n",
        "HiscoxFinal_df_copy = pd.DataFrame(one_hot_encoded)"
      ],
      "metadata": {
        "id": "GZT5xVflEoOC"
      },
      "execution_count": 58,
      "outputs": []
    },
    {
      "cell_type": "code",
      "source": [
        "#deleting the null values from the dataset\n",
        "HiscoxFinal_df = HiscoxFinal_df_copy.dropna(thresh=HiscoxFinal_df_copy.shape[1]-1)\n",
        "HiscoxFinal_df1 = HiscoxFinal_df.dropna()\n",
        "pd.DataFrame(HiscoxFinal_df1.isnull().sum())"
      ],
      "metadata": {
        "colab": {
          "base_uri": "https://localhost:8080/",
          "height": 1774
        },
        "id": "OToW3NIpHyNq",
        "outputId": "b96fc740-cea9-453e-a3e5-3d8defb84772"
      },
      "execution_count": 65,
      "outputs": [
        {
          "output_type": "execute_result",
          "data": {
            "text/plain": [
              "                                                    0\n",
              "Id                                                  0\n",
              "Phone number                                        0\n",
              "Age                                                 0\n",
              "No of dependents                                    0\n",
              "Income                                              0\n",
              "...                                                ..\n",
              "Do you want any additional cover for the conten...  0\n",
              "Want to add a joint policyholder_No                 0\n",
              "Want to add a joint policyholder_Yes                0\n",
              "Refused/cancelled/declined insurance_No             0\n",
              "Refused/cancelled/declined insurance_Yes            0\n",
              "\n",
              "[76 rows x 1 columns]"
            ],
            "text/html": [
              "\n",
              "  <div id=\"df-ccc4ae89-baa4-4e76-979c-904965267c46\" class=\"colab-df-container\">\n",
              "    <div>\n",
              "<style scoped>\n",
              "    .dataframe tbody tr th:only-of-type {\n",
              "        vertical-align: middle;\n",
              "    }\n",
              "\n",
              "    .dataframe tbody tr th {\n",
              "        vertical-align: top;\n",
              "    }\n",
              "\n",
              "    .dataframe thead th {\n",
              "        text-align: right;\n",
              "    }\n",
              "</style>\n",
              "<table border=\"1\" class=\"dataframe\">\n",
              "  <thead>\n",
              "    <tr style=\"text-align: right;\">\n",
              "      <th></th>\n",
              "      <th>0</th>\n",
              "    </tr>\n",
              "  </thead>\n",
              "  <tbody>\n",
              "    <tr>\n",
              "      <th>Id</th>\n",
              "      <td>0</td>\n",
              "    </tr>\n",
              "    <tr>\n",
              "      <th>Phone number</th>\n",
              "      <td>0</td>\n",
              "    </tr>\n",
              "    <tr>\n",
              "      <th>Age</th>\n",
              "      <td>0</td>\n",
              "    </tr>\n",
              "    <tr>\n",
              "      <th>No of dependents</th>\n",
              "      <td>0</td>\n",
              "    </tr>\n",
              "    <tr>\n",
              "      <th>Income</th>\n",
              "      <td>0</td>\n",
              "    </tr>\n",
              "    <tr>\n",
              "      <th>...</th>\n",
              "      <td>...</td>\n",
              "    </tr>\n",
              "    <tr>\n",
              "      <th>Do you want any additional cover for the content?_Yes</th>\n",
              "      <td>0</td>\n",
              "    </tr>\n",
              "    <tr>\n",
              "      <th>Want to add a joint policyholder_No</th>\n",
              "      <td>0</td>\n",
              "    </tr>\n",
              "    <tr>\n",
              "      <th>Want to add a joint policyholder_Yes</th>\n",
              "      <td>0</td>\n",
              "    </tr>\n",
              "    <tr>\n",
              "      <th>Refused/cancelled/declined insurance_No</th>\n",
              "      <td>0</td>\n",
              "    </tr>\n",
              "    <tr>\n",
              "      <th>Refused/cancelled/declined insurance_Yes</th>\n",
              "      <td>0</td>\n",
              "    </tr>\n",
              "  </tbody>\n",
              "</table>\n",
              "<p>76 rows × 1 columns</p>\n",
              "</div>\n",
              "    <div class=\"colab-df-buttons\">\n",
              "\n",
              "  <div class=\"colab-df-container\">\n",
              "    <button class=\"colab-df-convert\" onclick=\"convertToInteractive('df-ccc4ae89-baa4-4e76-979c-904965267c46')\"\n",
              "            title=\"Convert this dataframe to an interactive table.\"\n",
              "            style=\"display:none;\">\n",
              "\n",
              "  <svg xmlns=\"http://www.w3.org/2000/svg\" height=\"24px\" viewBox=\"0 -960 960 960\">\n",
              "    <path d=\"M120-120v-720h720v720H120Zm60-500h600v-160H180v160Zm220 220h160v-160H400v160Zm0 220h160v-160H400v160ZM180-400h160v-160H180v160Zm440 0h160v-160H620v160ZM180-180h160v-160H180v160Zm440 0h160v-160H620v160Z\"/>\n",
              "  </svg>\n",
              "    </button>\n",
              "\n",
              "  <style>\n",
              "    .colab-df-container {\n",
              "      display:flex;\n",
              "      gap: 12px;\n",
              "    }\n",
              "\n",
              "    .colab-df-convert {\n",
              "      background-color: #E8F0FE;\n",
              "      border: none;\n",
              "      border-radius: 50%;\n",
              "      cursor: pointer;\n",
              "      display: none;\n",
              "      fill: #1967D2;\n",
              "      height: 32px;\n",
              "      padding: 0 0 0 0;\n",
              "      width: 32px;\n",
              "    }\n",
              "\n",
              "    .colab-df-convert:hover {\n",
              "      background-color: #E2EBFA;\n",
              "      box-shadow: 0px 1px 2px rgba(60, 64, 67, 0.3), 0px 1px 3px 1px rgba(60, 64, 67, 0.15);\n",
              "      fill: #174EA6;\n",
              "    }\n",
              "\n",
              "    .colab-df-buttons div {\n",
              "      margin-bottom: 4px;\n",
              "    }\n",
              "\n",
              "    [theme=dark] .colab-df-convert {\n",
              "      background-color: #3B4455;\n",
              "      fill: #D2E3FC;\n",
              "    }\n",
              "\n",
              "    [theme=dark] .colab-df-convert:hover {\n",
              "      background-color: #434B5C;\n",
              "      box-shadow: 0px 1px 3px 1px rgba(0, 0, 0, 0.15);\n",
              "      filter: drop-shadow(0px 1px 2px rgba(0, 0, 0, 0.3));\n",
              "      fill: #FFFFFF;\n",
              "    }\n",
              "  </style>\n",
              "\n",
              "    <script>\n",
              "      const buttonEl =\n",
              "        document.querySelector('#df-ccc4ae89-baa4-4e76-979c-904965267c46 button.colab-df-convert');\n",
              "      buttonEl.style.display =\n",
              "        google.colab.kernel.accessAllowed ? 'block' : 'none';\n",
              "\n",
              "      async function convertToInteractive(key) {\n",
              "        const element = document.querySelector('#df-ccc4ae89-baa4-4e76-979c-904965267c46');\n",
              "        const dataTable =\n",
              "          await google.colab.kernel.invokeFunction('convertToInteractive',\n",
              "                                                    [key], {});\n",
              "        if (!dataTable) return;\n",
              "\n",
              "        const docLinkHtml = 'Like what you see? Visit the ' +\n",
              "          '<a target=\"_blank\" href=https://colab.research.google.com/notebooks/data_table.ipynb>data table notebook</a>'\n",
              "          + ' to learn more about interactive tables.';\n",
              "        element.innerHTML = '';\n",
              "        dataTable['output_type'] = 'display_data';\n",
              "        await google.colab.output.renderOutput(dataTable, element);\n",
              "        const docLink = document.createElement('div');\n",
              "        docLink.innerHTML = docLinkHtml;\n",
              "        element.appendChild(docLink);\n",
              "      }\n",
              "    </script>\n",
              "  </div>\n",
              "\n",
              "\n",
              "<div id=\"df-57291abf-551a-4c55-9a7c-dc692cbf7602\">\n",
              "  <button class=\"colab-df-quickchart\" onclick=\"quickchart('df-57291abf-551a-4c55-9a7c-dc692cbf7602')\"\n",
              "            title=\"Suggest charts\"\n",
              "            style=\"display:none;\">\n",
              "\n",
              "<svg xmlns=\"http://www.w3.org/2000/svg\" height=\"24px\"viewBox=\"0 0 24 24\"\n",
              "     width=\"24px\">\n",
              "    <g>\n",
              "        <path d=\"M19 3H5c-1.1 0-2 .9-2 2v14c0 1.1.9 2 2 2h14c1.1 0 2-.9 2-2V5c0-1.1-.9-2-2-2zM9 17H7v-7h2v7zm4 0h-2V7h2v10zm4 0h-2v-4h2v4z\"/>\n",
              "    </g>\n",
              "</svg>\n",
              "  </button>\n",
              "\n",
              "<style>\n",
              "  .colab-df-quickchart {\n",
              "      --bg-color: #E8F0FE;\n",
              "      --fill-color: #1967D2;\n",
              "      --hover-bg-color: #E2EBFA;\n",
              "      --hover-fill-color: #174EA6;\n",
              "      --disabled-fill-color: #AAA;\n",
              "      --disabled-bg-color: #DDD;\n",
              "  }\n",
              "\n",
              "  [theme=dark] .colab-df-quickchart {\n",
              "      --bg-color: #3B4455;\n",
              "      --fill-color: #D2E3FC;\n",
              "      --hover-bg-color: #434B5C;\n",
              "      --hover-fill-color: #FFFFFF;\n",
              "      --disabled-bg-color: #3B4455;\n",
              "      --disabled-fill-color: #666;\n",
              "  }\n",
              "\n",
              "  .colab-df-quickchart {\n",
              "    background-color: var(--bg-color);\n",
              "    border: none;\n",
              "    border-radius: 50%;\n",
              "    cursor: pointer;\n",
              "    display: none;\n",
              "    fill: var(--fill-color);\n",
              "    height: 32px;\n",
              "    padding: 0;\n",
              "    width: 32px;\n",
              "  }\n",
              "\n",
              "  .colab-df-quickchart:hover {\n",
              "    background-color: var(--hover-bg-color);\n",
              "    box-shadow: 0 1px 2px rgba(60, 64, 67, 0.3), 0 1px 3px 1px rgba(60, 64, 67, 0.15);\n",
              "    fill: var(--button-hover-fill-color);\n",
              "  }\n",
              "\n",
              "  .colab-df-quickchart-complete:disabled,\n",
              "  .colab-df-quickchart-complete:disabled:hover {\n",
              "    background-color: var(--disabled-bg-color);\n",
              "    fill: var(--disabled-fill-color);\n",
              "    box-shadow: none;\n",
              "  }\n",
              "\n",
              "  .colab-df-spinner {\n",
              "    border: 2px solid var(--fill-color);\n",
              "    border-color: transparent;\n",
              "    border-bottom-color: var(--fill-color);\n",
              "    animation:\n",
              "      spin 1s steps(1) infinite;\n",
              "  }\n",
              "\n",
              "  @keyframes spin {\n",
              "    0% {\n",
              "      border-color: transparent;\n",
              "      border-bottom-color: var(--fill-color);\n",
              "      border-left-color: var(--fill-color);\n",
              "    }\n",
              "    20% {\n",
              "      border-color: transparent;\n",
              "      border-left-color: var(--fill-color);\n",
              "      border-top-color: var(--fill-color);\n",
              "    }\n",
              "    30% {\n",
              "      border-color: transparent;\n",
              "      border-left-color: var(--fill-color);\n",
              "      border-top-color: var(--fill-color);\n",
              "      border-right-color: var(--fill-color);\n",
              "    }\n",
              "    40% {\n",
              "      border-color: transparent;\n",
              "      border-right-color: var(--fill-color);\n",
              "      border-top-color: var(--fill-color);\n",
              "    }\n",
              "    60% {\n",
              "      border-color: transparent;\n",
              "      border-right-color: var(--fill-color);\n",
              "    }\n",
              "    80% {\n",
              "      border-color: transparent;\n",
              "      border-right-color: var(--fill-color);\n",
              "      border-bottom-color: var(--fill-color);\n",
              "    }\n",
              "    90% {\n",
              "      border-color: transparent;\n",
              "      border-bottom-color: var(--fill-color);\n",
              "    }\n",
              "  }\n",
              "</style>\n",
              "\n",
              "  <script>\n",
              "    async function quickchart(key) {\n",
              "      const quickchartButtonEl =\n",
              "        document.querySelector('#' + key + ' button');\n",
              "      quickchartButtonEl.disabled = true;  // To prevent multiple clicks.\n",
              "      quickchartButtonEl.classList.add('colab-df-spinner');\n",
              "      try {\n",
              "        const charts = await google.colab.kernel.invokeFunction(\n",
              "            'suggestCharts', [key], {});\n",
              "      } catch (error) {\n",
              "        console.error('Error during call to suggestCharts:', error);\n",
              "      }\n",
              "      quickchartButtonEl.classList.remove('colab-df-spinner');\n",
              "      quickchartButtonEl.classList.add('colab-df-quickchart-complete');\n",
              "    }\n",
              "    (() => {\n",
              "      let quickchartButtonEl =\n",
              "        document.querySelector('#df-57291abf-551a-4c55-9a7c-dc692cbf7602 button');\n",
              "      quickchartButtonEl.style.display =\n",
              "        google.colab.kernel.accessAllowed ? 'block' : 'none';\n",
              "    })();\n",
              "  </script>\n",
              "</div>\n",
              "    </div>\n",
              "  </div>\n"
            ],
            "application/vnd.google.colaboratory.intrinsic+json": {
              "type": "dataframe",
              "summary": "{\n  \"name\": \"pd\",\n  \"rows\": 76,\n  \"fields\": [\n    {\n      \"column\": 0,\n      \"properties\": {\n        \"dtype\": \"number\",\n        \"std\": 0,\n        \"min\": 0,\n        \"max\": 0,\n        \"num_unique_values\": 1,\n        \"samples\": [\n          0\n        ],\n        \"semantic_type\": \"\",\n        \"description\": \"\"\n      }\n    }\n  ]\n}"
            }
          },
          "metadata": {},
          "execution_count": 65
        }
      ]
    },
    {
      "cell_type": "markdown",
      "source": [
        "***Using Random Forest ML algorithm to train the data and evaluate the model on the parameter of Accuracy***"
      ],
      "metadata": {
        "id": "eanVeDManD2F"
      }
    },
    {
      "cell_type": "code",
      "source": [
        "#splitting data into features and target variable\n",
        "X = HiscoxFinal_df1.drop('Claim status ', axis=1)\n",
        "y = HiscoxFinal_df1['Claim status ']\n",
        "\n",
        "#splitting data into training and testing sets\n",
        "X_train, X_test, y_train, y_test = train_test_split(X, y, test_size=0.2, random_state=42)\n",
        "\n",
        "#feature selection using Random Forest\n",
        "clf = RandomForestClassifier(n_estimators=100, random_state=42)\n",
        "clf.fit(X_train, y_train)\n",
        "\n",
        "#select features based on feature importance\n",
        "sfm = SelectFromModel(clf, threshold=0.1)\n",
        "sfm.fit(X_train, y_train)\n",
        "X_train_selected = sfm.transform(X_train)\n",
        "X_test_selected = sfm.transform(X_test)\n",
        "\n",
        "#training a classifier on selected features\n",
        "clf_selected = RandomForestClassifier(n_estimators=100, random_state=42)\n",
        "clf_selected.fit(X_train_selected, y_train)\n",
        "\n",
        "#evaluating the model\n",
        "y_pred = clf_selected.predict(X_test_selected)\n",
        "accuracy = accuracy_score(y_test, y_pred)\n",
        "print(\"Accuracy of training model:\", accuracy)"
      ],
      "metadata": {
        "colab": {
          "base_uri": "https://localhost:8080/"
        },
        "id": "AFh5RliMClC7",
        "outputId": "51535437-eadc-4e41-8290-df0f331a92dc"
      },
      "execution_count": 69,
      "outputs": [
        {
          "output_type": "stream",
          "name": "stdout",
          "text": [
            "Accuracy of training model: 0.9709854927463731\n"
          ]
        }
      ]
    },
    {
      "cell_type": "code",
      "source": [
        "#trying to test the model's accuracy by checking it on random data and finding the mean of the accuracies\n",
        "\n",
        "#storing train and test accuracies\n",
        "train_accuracies = []\n",
        "test_accuracies = []\n",
        "\n",
        "#number of iterations to test the model's accuracy\n",
        "num_iterations = 10\n",
        "\n",
        "for i in range(num_iterations):\n",
        "    #splitting the dataset into training and testing sets\n",
        "    X_train, X_test, y_train, y_test = train_test_split(X, y, test_size=0.2, random_state=i)\n",
        "\n",
        "    #train the random forest classifier\n",
        "    rf_classifier = RandomForestClassifier(random_state=42)\n",
        "    rf_classifier.fit(X_train, y_train)\n",
        "\n",
        "    #evaluating the model's accuracy on training and testing sets\n",
        "    train_accuracy = accuracy_score(y_train, rf_classifier.predict(X_train))\n",
        "    test_accuracy = accuracy_score(y_test, rf_classifier.predict(X_test))\n",
        "\n",
        "    #appending the accuracies to the lists\n",
        "    train_accuracies.append(train_accuracy)\n",
        "    test_accuracies.append(test_accuracy)\n",
        "\n",
        "#converting the lists to numpy arrays for easier manipulation\n",
        "train_accuracies = np.array(train_accuracies)\n",
        "test_accuracies = np.array(test_accuracies)\n",
        "\n",
        "# Print the average train and test accuracies\n",
        "print(\"Average Train Accuracy for 10 iterations:\", np.mean(train_accuracies))\n",
        "print(\"Average Test Accuracy for 10 iterations:\", np.mean(test_accuracies))"
      ],
      "metadata": {
        "colab": {
          "base_uri": "https://localhost:8080/"
        },
        "id": "FRyelSJ2Qnmi",
        "outputId": "d119563d-3c36-4038-dc7e-d7be6f9c92f2"
      },
      "execution_count": 74,
      "outputs": [
        {
          "output_type": "stream",
          "name": "stdout",
          "text": [
            "Average Train Accuracy: 1.0\n",
            "Average Test Accuracy: 0.9986993496748374\n"
          ]
        }
      ]
    },
    {
      "cell_type": "code",
      "source": [
        "#plotting the random forest model performance\n",
        "\n",
        "epochs = range(1, 11)\n",
        "\n",
        "# Plotting the performance metrics\n",
        "plt.plot(epochs, train_accuracies, label='Train Accuracy')\n",
        "plt.plot(epochs, test_accuracies, label='Test Accuracy')\n",
        "\n",
        "# Adding labels and title\n",
        "plt.xlabel('Epochs')\n",
        "plt.ylabel('Accuracy')\n",
        "plt.title('Random Forest Model Performance')\n",
        "plt.legend()\n",
        "\n",
        "# Displaying the plot\n",
        "plt.show()#"
      ],
      "metadata": {
        "colab": {
          "base_uri": "https://localhost:8080/",
          "height": 472
        },
        "id": "ETlvj0TMQued",
        "outputId": "c74789c3-01ea-4aa7-d303-13802b611f93"
      },
      "execution_count": 79,
      "outputs": [
        {
          "output_type": "display_data",
          "data": {
            "text/plain": [
              "<Figure size 640x480 with 1 Axes>"
            ],
            "image/png": "[encoded data removed]"
          },
          "metadata": {}
        }
      ]
    },
    {
      "cell_type": "code",
      "source": [
        "# Precision - Step 2: Split the dataset into training and testing sets\n",
        "X_train, X_test, y_train, y_test = train_test_split(X, y, test_size=0.2, random_state=42)\n",
        "\n",
        "# Step 3: Initialize the RandomForestClassifier\n",
        "rf_classifier = RandomForestClassifier(random_state=42)\n",
        "\n",
        "# Step 4: Train the model\n",
        "rf_classifier.fit(X_train, y_train)\n",
        "\n",
        "# Step 5: Make predictions\n",
        "y_pred = rf_classifier.predict(X_test)\n",
        "\n",
        "# Step 6: Calculate precision\n",
        "precision = precision_score(y_test, y_pred, average='weighted')\n",
        "\n",
        "print(\"Precision:\", precision)"
      ],
      "metadata": {
        "colab": {
          "base_uri": "https://localhost:8080/"
        },
        "id": "YIUhGrJHU8Nu",
        "outputId": "cdc9bf72-8682-4b53-c0f0-f9b954781b77"
      },
      "execution_count": 78,
      "outputs": [
        {
          "output_type": "stream",
          "name": "stdout",
          "text": [
            "Precision: 0.9995002831906359\n"
          ]
        }
      ]
    },
    {
      "cell_type": "markdown",
      "source": [
        "## **Data Modelling - Logistic Regression model**"
      ],
      "metadata": {
        "id": "bCWUxLDv1DiW"
      }
    },
    {
      "cell_type": "code",
      "source": [
        "#splitting data into training and testing sets\n",
        "X1_train, X1_test, y1_train, y1_test = train_test_split(X, y, test_size=0.2, random_state=42)\n",
        "\n",
        "#logistic regression model\n",
        "logistic_model = LogisticRegression()\n",
        "\n",
        "#training the model on the training data\n",
        "logistic_model.fit(X1_train, y1_train)\n",
        "\n",
        "#predictions on the testing data\n",
        "y1_pred = logistic_model.predict(X1_test)\n",
        "\n",
        "#evaluating the model\n",
        "logistic_accuracy = accuracy_score(y1_test, y1_pred)\n",
        "print(\"Accuracy of LogisticRegressionModel:\", logistic_accuracy)\n",
        "\n",
        "#detailed evaluation metrics\n",
        "print()\n",
        "print(classification_report(y1_test, y1_pred, zero_division=0))"
      ],
      "metadata": {
        "colab": {
          "base_uri": "https://localhost:8080/"
        },
        "id": "RJfDYGob0u2w",
        "outputId": "78b5e27e-9cde-44c5-d567-25535e23e6ab"
      },
      "execution_count": 84,
      "outputs": [
        {
          "output_type": "stream",
          "name": "stdout",
          "text": [
            "Accuracy of LogisticRegressionModel: 0.5312656328164082\n",
            "\n",
            "              precision    recall  f1-score   support\n",
            "\n",
            "           0       0.53      1.00      0.69      1062\n",
            "           1       0.00      0.00      0.00       937\n",
            "\n",
            "    accuracy                           0.53      1999\n",
            "   macro avg       0.27      0.50      0.35      1999\n",
            "weighted avg       0.28      0.53      0.37      1999\n",
            "\n"
          ]
        }
      ]
    },
    {
      "cell_type": "markdown",
      "source": [
        "## **Data Modelling - Decision Tree classification model**"
      ],
      "metadata": {
        "id": "qALzlHO2--JR"
      }
    },
    {
      "cell_type": "code",
      "source": [
        "#spilitting the dataset into training and testing sets\n",
        "X2_train, X2_test, y2_train, y2_test = train_test_split(X, y, test_size=0.2, random_state=42)\n",
        "\n",
        "decision_classifier = DecisionTreeClassifier(random_state=42)\n",
        "\n",
        "#train the model\n",
        "decision_classifier.fit(X2_train, y2_train)\n",
        "\n",
        "#predictions\n",
        "y2_pred = decision_classifier.predict(X2_test)\n",
        "\n",
        "#evaluating the model\n",
        "decision_accuracy = accuracy_score(y2_test, y2_pred)\n",
        "print(\"Accuracy of decision tree model:\", decision_accuracy)"
      ],
      "metadata": {
        "colab": {
          "base_uri": "https://localhost:8080/"
        },
        "id": "rWGWI6H8_AJf",
        "outputId": "295346fb-dc8c-4428-dded-e5d643129858"
      },
      "execution_count": 94,
      "outputs": [
        {
          "output_type": "stream",
          "name": "stdout",
          "text": [
            "Accuracy of decision tree model: 1.0\n"
          ]
        }
      ]
    },
    {
      "cell_type": "code",
      "source": [
        "#trying to check the model's accuracy on various batch test data\n",
        "\n",
        "#store train and test accuracies\n",
        "train2_accuracies = []\n",
        "test2_accuracies = []\n",
        "\n",
        "#number of iterations\n",
        "num_iterations = 10\n",
        "\n",
        "for i in range(num_iterations):\n",
        "    #split the dataset into training and testing sets\n",
        "    X2_train, X2_test, y2_train, y2_test = train_test_split(X, y, test_size=0.2, random_state=i)\n",
        "\n",
        "    #train the decision tree classifier\n",
        "    decision2_classifier = DecisionTreeClassifier(random_state=42)\n",
        "    decision2_classifier.fit(X_train, y_train)\n",
        "\n",
        "    #make predictions on training and testing data\n",
        "    y2_train_pred = decision2_classifier.predict(X2_train)\n",
        "    y2_test_pred = decision2_classifier.predict(X2_test)\n",
        "\n",
        "    #compute train and test accuracies\n",
        "    train2_accuracy = accuracy_score(y2_train, y2_train_pred)\n",
        "    test2_accuracy = accuracy_score(y2_test, y2_test_pred)\n",
        "\n",
        "    #append the accuracies to the lists\n",
        "    train2_accuracies.append(train2_accuracy)\n",
        "    test2_accuracies.append(test2_accuracy)\n",
        "\n",
        "#convert the lists to arrays for easier manipulation\n",
        "train2_accuracies = np.array(train2_accuracies)\n",
        "test2_accuracies = np.array(test2_accuracies)\n",
        "\n",
        "#print the average train and test accuracies\n",
        "print(\"Average Train Accuracy of decision tree model:\", np.mean(train2_accuracies))\n",
        "print(\"Average Test Accuracy of decision tree model:\", np.mean(test2_accuracies))"
      ],
      "metadata": {
        "colab": {
          "base_uri": "https://localhost:8080/"
        },
        "id": "gbfLC0Z8JYf9",
        "outputId": "9e4815c4-4f19-4288-ce50-30c4e1ee8fca"
      },
      "execution_count": 95,
      "outputs": [
        {
          "output_type": "stream",
          "name": "stdout",
          "text": [
            "Average Train Accuracy of decision tree model: 1.0\n",
            "Average Test Accuracy of decision tree model: 1.0\n"
          ]
        }
      ]
    },
    {
      "cell_type": "code",
      "source": [
        "#plotting the decision tree model performance\n",
        "\n",
        "epochs = range(1, 11)\n",
        "\n",
        "# Plotting the performance metrics\n",
        "plt.plot(epochs, train2_accuracies, label='Train Accuracy')\n",
        "plt.plot(epochs, test2_accuracies, label='Test Accuracy')\n",
        "\n",
        "# Adding labels and title\n",
        "plt.xlabel('Epochs')\n",
        "plt.ylabel('Accuracy')\n",
        "plt.title('Decision tree Model Performance')\n",
        "plt.legend()\n",
        "\n",
        "# Displaying the plot\n",
        "plt.show()#"
      ],
      "metadata": {
        "colab": {
          "base_uri": "https://localhost:8080/",
          "height": 472
        },
        "id": "G18nrfSNMOE6",
        "outputId": "b96f2189-100c-4de1-ff0c-32587690c9af"
      },
      "execution_count": 93,
      "outputs": [
        {
          "output_type": "display_data",
          "data": {
            "text/plain": [
              "<Figure size 640x480 with 1 Axes>"
            ],
            "image/png": "[encoded data removed]"
          },
          "metadata": {}
        }
      ]
    },
    {
      "cell_type": "code",
      "source": [
        "#the accuracy is 1.0 therefore crosschecking on different parameters\n",
        "\n",
        "decision_precision = precision_score(y2_test, y2_pred, average='weighted')\n",
        "print(\"Precision of decision tree:\", decision_precision)\n",
        "decision_recall = recall_score(y2_test, y2_pred, average='weighted')\n",
        "print(\"Recall of decision tree:\", decision_recall)\n",
        "decision_f1 = f1_score(y2_test, y2_pred, average='weighted')\n",
        "print(\"F1-score of decision tree:\", decision_f1)"
      ],
      "metadata": {
        "colab": {
          "base_uri": "https://localhost:8080/"
        },
        "id": "HlhS7-N4Cl9P",
        "outputId": "f9a98823-320f-43e1-ac41-01fb37d79702"
      },
      "execution_count": 90,
      "outputs": [
        {
          "output_type": "stream",
          "name": "stdout",
          "text": [
            "Precision of decision tree: 1.0\n",
            "Recall of decision tree: 1.0\n",
            "F1-score of decision tree: 1.0\n"
          ]
        }
      ]
    },
    {
      "cell_type": "markdown",
      "source": [
        "### *Goal to receive only 5% policy claims*"
      ],
      "metadata": {
        "id": "2jqJA3xCSep6"
      }
    },
    {
      "cell_type": "code",
      "source": [
        "#predict probabilities\n",
        "proba_predictions = decision_classifier.predict_proba(X)\n",
        "\n",
        "#extract probabilities for positive class (claim)\n",
        "claim_probabilities = proba_predictions[:, 1]\n",
        "\n",
        "#set the desired claim rate threshold\n",
        "desired_claim_rate = 0.05\n",
        "\n",
        "#find the threshold corresponding to the desired claim rate\n",
        "threshold = np.percentile(claim_probabilities, (1 - desired_claim_rate) * 100)\n",
        "\n",
        "#classify policyholders based on the adjusted threshold\n",
        "claim_predictions = (claim_probabilities >= threshold).astype(int)"
      ],
      "metadata": {
        "id": "mmw9qJ9bSdsl"
      },
      "execution_count": 97,
      "outputs": []
    },
    {
      "cell_type": "code",
      "source": [
        "#trying to evaluate the performance basis a few metrics\n",
        "dprecision = precision_score(y2_test, y_pred)\n",
        "print(\"Precision for 5% claim rate:\" , dprecision)\n",
        "\n",
        "drecall = recall_score(y2_test, y_pred)\n",
        "print(\"Recall for 5% claim rate:\" , drecall)\n",
        "\n",
        "df1 = f1_score(y2_test, y_pred)\n",
        "print(\"F1 score for 5% claim rate:\" , df1)"
      ],
      "metadata": {
        "colab": {
          "base_uri": "https://localhost:8080/"
        },
        "id": "JBWzRXCYUF_x",
        "outputId": "5633330b-9814-4123-9a66-57b0afafb43c"
      },
      "execution_count": 114,
      "outputs": [
        {
          "output_type": "stream",
          "name": "stdout",
          "text": [
            "Precision for 5% claim rate: 0.4690831556503198\n",
            "Recall for 5% claim rate: 0.4777415852334419\n",
            "F1 score for 5% claim rate: 0.47337278106508873\n"
          ]
        }
      ]
    },
    {
      "cell_type": "markdown",
      "source": [
        "## **Questions:**\n",
        "\n",
        "---\n",
        "\n"
      ],
      "metadata": {
        "id": "i9948e_33Fa-"
      }
    },
    {
      "cell_type": "markdown",
      "source": [
        "What are the considerations for ensuring the business can leverage Machine Learning?\n",
        "\n",
        "\n",
        "* High quality data - We have to ensure that high-quality data with cleanliness and relevance is available for training and testing ML models.\n",
        "* Cloud platform/Infrastructure - We need a storage or a platform to handle large volumes of data.\n",
        "* Defined process - There has to be a process in place for developing, deploying and maintaining ML models.\n",
        "* Efficiency - Monitor model performance and optimize\n",
        "efficiency.\n",
        "* Integration with the business - Integrate Machine Learning into existing processes.\n",
        "* Collaborate with other teams - Speak with other teams to identify the issues and provide ML solutions/initiatives to the business.\n",
        "* Knowledge sharing - Knowledge sharing with other teams is very important to improve the ML process and make them aware too.\n",
        "\n",
        "\n",
        "\n"
      ],
      "metadata": {
        "id": "sZpPoMi6k26I"
      }
    },
    {
      "cell_type": "markdown",
      "source": [
        "What are the steps you would take to provide ML into the business?\n",
        "\n",
        "*   Identify the business goals- Understand the business objectives, goals, challenges and think of the ways Machine Learning could address and achieve business objectives.\n",
        "*   Define use cases - Work on the use cases that the outcomes of the ML projects are aligned with business objectives.\n",
        "*   Data preparation and manipulation - Collect the data from internal databases or external sources depending on the requirements, clean, process and ensure it is ready for Machine learning model training.\n",
        "*   Model selection and training - Choose the right ML algorithms, train model\n",
        "*   Model evaluation - Evaluate the performance of the model basis metrics like accuracy, precision, recall, F1-score or area under the ROC curve.\n",
        "*   Deployment and Integration - Deploy the trained models to generate predictions or insights.\n",
        "*   Share knowledge and support - Provide support to other teams\n",
        "\n",
        "\n",
        "\n",
        "\n",
        "---\n",
        "\n",
        "\n",
        "\n",
        "\n",
        "\n",
        "\n",
        "\n"
      ],
      "metadata": {
        "id": "Og-muAuYlIb1"
      }
    },
    {
      "cell_type": "markdown",
      "source": [
        "Which traditional teams in a business would you need to speak to?\n",
        "\n",
        "*   Claims team\n",
        "*   Finance team\n",
        "*   Underwriters\n",
        "*   Stakeholders\n",
        "*   Legal and compliance team\n",
        "\n",
        "\n",
        "\n",
        "\n",
        "\n",
        "\n"
      ],
      "metadata": {
        "id": "3YXgs1NtlOrq"
      }
    },
    {
      "cell_type": "markdown",
      "source": [
        "What is the scope and out of scope for your responsibility?\n",
        "\n",
        "*   Data Collection: Collecting data from various sources, internal and external datasets.\n",
        "*   Data Cleaning and Preprocessing: Cleaning and preprocessing raw data to remove duplicates, missing values and outliers and ensure quality.\n",
        "*   Data Analysis: Exploring and analysing the data to understand its patterns and relationships.\n",
        "*   Model Development: Building, training, and evaluating machine learning models to solve specific business problems or make predictions.\n",
        "Model Deployment: Deploying machine learning models to generate predictions or insights in real time.\n",
        "Model Monitoring and Maintenance: Monitoring the performance of deployed models and updating and maintaining models as needed.\n",
        "*   Data Visualisation: Creating visualisations and reports to communicate findings and insights from data analysis and modeling to stakeholders.\n",
        "*   Collaboration with other teams: Collaborating with stakeholders from different departments, such as business, engineering, and product teams, to understand requirements and deliver solutions that meet business needs.\n",
        "\n",
        "Additionally, having worked as a DevOps Engineer more than happy to take care of the ETL pipeline.\n",
        "\n",
        "Out of Scope responsibilities according to me:\n",
        "\n",
        "*  Data Entry: Manual data entry or data collection tasks.\n",
        "*  Project Management: Overseeing project timelines, budgets, and resources, including tasks such as project planning, coordination, and stakeholder management.\n",
        "*  Business Strategy and Decision-making: Making high-level strategic decisions or setting business priorities, which are typically the responsibility of executives and business leaders.\n",
        "*  Legal and Compliance: Ensuring compliance with data privacy regulations, intellectual property laws, and other legal requirements, which may involve legal expertise.\n",
        "*  Customer Support: Providing customer support which are typically handled by customer service.\n",
        "\n"
      ],
      "metadata": {
        "id": "g67Zz9S6lVvK"
      }
    },
    {
      "cell_type": "markdown",
      "source": [
        "## **Conclusion:**\n",
        "\n",
        "\n",
        "---\n",
        "\n",
        "Machine Learning can help businesses in various aspects:\n",
        "\n",
        "*   Risk Assessment\n",
        "*   Identify potential frauds\n",
        "*   Claim processing\n",
        "*   Predictions and Forecasting\n",
        "*   Price optimisation\n",
        "*   List item\n",
        "\n",
        "Overall, machine learning offers insurance companies valuable tools and techniques to enhance operational efficiency, mitigate risks, improve customer satisfaction, and drive business growth in an increasingly competitive marketplace.\n",
        "\n",
        "\n",
        "\n",
        "\n",
        "\n"
      ],
      "metadata": {
        "id": "SHksyZlV0rbJ"
      }
    }
  ]
}